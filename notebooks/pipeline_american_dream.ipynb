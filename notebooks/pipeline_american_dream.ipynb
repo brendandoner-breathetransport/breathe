{
 "cells": [
  {
   "cell_type": "markdown",
   "id": "c8e9bdc5-f2db-4a93-a88e-b9ab387649ad",
   "metadata": {},
   "source": [
    "# Load"
   ]
  },
  {
   "cell_type": "code",
   "execution_count": null,
   "id": "86190c13-2da5-43d4-b977-823c09f2509f",
   "metadata": {},
   "outputs": [],
   "source": [
    "import numpy as np\n",
    "import pandas as pd\n",
    "import polars as pl\n",
    "import os\n",
    "\n",
    "import matplotlib.pyplot as plt\n",
    "import seaborn as sns\n",
    "import plotly.graph_objects as go\n",
    "from plotly.subplots import make_subplots\n",
    "\n",
    "import pathlib\n",
    "from pathlib import Path\n",
    "\n",
    "directory_raw = str(Path.cwd().parent) + '\\\\data_raw\\\\american_dream\\\\'\n",
    "\n",
    "directory_processed = str(Path.cwd().parent) + '\\\\data\\\\american_dream\\\\'\n",
    "directory_raw"
   ]
  },
  {
   "cell_type": "markdown",
   "id": "030964d2-11b8-469b-856e-2ea0b18b988b",
   "metadata": {},
   "source": [
    "# Fuctions & Parameters"
   ]
  },
  {
   "cell_type": "code",
   "execution_count": null,
   "id": "2d6f3db8-dbb4-41ee-8d25-12b4c691ff24",
   "metadata": {},
   "outputs": [],
   "source": [
    "def read_data(file_name):\n",
    "    # data = pl.from_pandas(pd.read_csv(directory_raw+'/'+file_name))\n",
    "    data = pl.from_pandas(pd.read_csv(directory_raw + file_name))\n",
    "    return data\n",
    "\n",
    "def save_data(data, file_name):\n",
    "    data.write_csv(directory_processed + file_name)\n",
    "    print(f\"{file_name} has been saved.\")"
   ]
  },
  {
   "cell_type": "markdown",
   "id": "dbe4c2bf-9601-495f-b6e3-4eecf6b1f229",
   "metadata": {},
   "source": [
    "# Children make more than their parents"
   ]
  },
  {
   "cell_type": "code",
   "execution_count": null,
   "id": "ed95a668-5ebb-4291-9c9f-108c081696f5",
   "metadata": {},
   "outputs": [],
   "source": [
    "kids = read_data(file_name='table1_national_absmob_by_cohort_parpctile.csv')\n",
    "\"\"\"\n",
    "Chetty, Raj, et al. \n",
    "“The Fading American Dream: Trends in Absolute Income Mobility since 1940.” \n",
    "Www.nber.org, 12 Dec. 2016, www.nber.org/papers/w22910.\n",
    "\"\"\"\n",
    "kids = (\n",
    "    kids\n",
    "    .select([\n",
    "        pl.col('cohort').alias('cohort_birth_year'),\n",
    "        pl.col('cohort_mean').alias('probability'), # probability that the children earn more than their parents\n",
    "    ])\n",
    "    .with_columns(\n",
    "        cohort_work_year = pl.col('cohort_birth_year') + 30, # 30 years old is the period used for income calculations see Chetty paper above\n",
    "    )\n",
    "    .sort('cohort_birth_year')\n",
    ")\n",
    "save_data(data=kids, file_name='american_dream_kids.csv')\n",
    "kids.head()"
   ]
  },
  {
   "cell_type": "markdown",
   "id": "18775b6b-ef3d-4b22-a98d-a89887118499",
   "metadata": {},
   "source": [
    "# Plotly"
   ]
  },
  {
   "cell_type": "code",
   "execution_count": null,
   "id": "c94c86ab-3274-4bb2-983e-541c507857fe",
   "metadata": {},
   "outputs": [],
   "source": [
    "def plot_timeseries(data, y, x, yaxis_title, xaxis_title, title,):\n",
    "    \n",
    "    fig = go.Figure(\n",
    "        data = [\n",
    "            go.Scatter(\n",
    "                name=f\"probability\",\n",
    "                mode='lines',\n",
    "                x=data[x],\n",
    "                y=data[y],\n",
    "        ) \n",
    "        ] \n",
    "    )\n",
    "    \n",
    "    fig.update_layout(\n",
    "        title=dict(\n",
    "            text=f\"<b>{title}</b>\",\n",
    "        ),\n",
    "        yaxis_title=f\"{yaxis_title}\",\n",
    "        xaxis_title=f\"{xaxis_title}\",\n",
    "        # xaxis=dict(\n",
    "        #     range=[2000, 2026],\n",
    "        # ),\n",
    "        showlegend=False,\n",
    "        # template=get_color_template(input.dark_mode()),\n",
    "        # paper_bgcolor=get_background_color_plotly(input.dark_mode()),\n",
    "    )\n",
    "    \n",
    "    for trace in fig['data']:\n",
    "        if 'NONE' in trace['name']:\n",
    "            trace['showlegend']=False\n",
    "    \n",
    "    fig.show()"
   ]
  },
  {
   "cell_type": "code",
   "execution_count": null,
   "id": "a51fb430-aa02-4b51-822a-78a922ead22f",
   "metadata": {},
   "outputs": [],
   "source": [
    "plot_timeseries(\n",
    "    data=kids, \n",
    "    y='probability', \n",
    "    x='cohort_work_year', \n",
    "    yaxis_title='probability', \n",
    "    xaxis_title='year', \n",
    "    title='What is the probability Americans earned more than their parents?',\n",
    ")"
   ]
  },
  {
   "cell_type": "code",
   "execution_count": null,
   "id": "bfb27b46-b36d-4cf4-919a-72131f04a52a",
   "metadata": {},
   "outputs": [],
   "source": [
    "plot_timeseries_multiple_countries(data=life, title=\"Does America's high spending on healthcare lead to better outcomes?\", yaxis_title=\"life expectancy\")\n"
   ]
  },
  {
   "cell_type": "code",
   "execution_count": null,
   "id": "5220802a-9435-4bec-a473-232a52052942",
   "metadata": {},
   "outputs": [],
   "source": []
  },
  {
   "cell_type": "code",
   "execution_count": null,
   "id": "28dc9e75-be20-4fef-8374-f3061f9ed7df",
   "metadata": {},
   "outputs": [],
   "source": []
  }
 ],
 "metadata": {
  "kernelspec": {
   "display_name": "Python 3 (ipykernel)",
   "language": "python",
   "name": "python3"
  },
  "language_info": {
   "codemirror_mode": {
    "name": "ipython",
    "version": 3
   },
   "file_extension": ".py",
   "mimetype": "text/x-python",
   "name": "python",
   "nbconvert_exporter": "python",
   "pygments_lexer": "ipython3",
   "version": "3.11.7"
  }
 },
 "nbformat": 4,
 "nbformat_minor": 5
}
