{
 "cells": [
  {
   "cell_type": "markdown",
   "id": "c8e9bdc5-f2db-4a93-a88e-b9ab387649ad",
   "metadata": {},
   "source": [
    "# Load"
   ]
  },
  {
   "cell_type": "code",
   "execution_count": null,
   "id": "86190c13-2da5-43d4-b977-823c09f2509f",
   "metadata": {},
   "outputs": [],
   "source": [
    "import numpy as np\n",
    "import pandas as pd\n",
    "import polars as pl\n",
    "import os\n",
    "\n",
    "import matplotlib.pyplot as plt\n",
    "import seaborn as sns\n",
    "import plotly.graph_objects as go\n",
    "from plotly.subplots import make_subplots\n",
    "\n",
    "import pathlib\n",
    "from pathlib import Path\n",
    "\n",
    "directory_raw = str(Path.cwd().parent) + '\\\\data_raw\\\\healthcare\\\\'\n",
    "\n",
    "directory_processed = str(Path.cwd().parent) + '\\\\data\\\\healthcare\\\\'\n",
    "directory_raw"
   ]
  },
  {
   "cell_type": "markdown",
   "id": "030964d2-11b8-469b-856e-2ea0b18b988b",
   "metadata": {},
   "source": [
    "# Fuctions & Parameters"
   ]
  },
  {
   "cell_type": "code",
   "execution_count": null,
   "id": "2d6f3db8-dbb4-41ee-8d25-12b4c691ff24",
   "metadata": {},
   "outputs": [],
   "source": [
    "def read_data(file_name):\n",
    "    # data = pl.from_pandas(pd.read_csv(directory_raw+'/'+file_name))\n",
    "    data = pl.from_pandas(pd.read_csv(directory_raw + file_name))\n",
    "    return data\n",
    "\n",
    "def save_data(data, file_name):\n",
    "    data.write_csv(directory_processed + file_name)\n",
    "    print(f\"{file_name} has been saved.\")"
   ]
  },
  {
   "cell_type": "code",
   "execution_count": null,
   "id": "10224064-5f57-4d06-89d8-a74ab4b89a0b",
   "metadata": {},
   "outputs": [],
   "source": [
    "countries = [\n",
    "    'costa rica',\n",
    "    'mexico',\n",
    "    'australia', \n",
    "    'france', \n",
    "    'switzerland', \n",
    "    'canada',\n",
    "    'germany',\n",
    "    'italy',\n",
    "    'japan',\n",
    "    'new zealand', # New Zealand\n",
    "    'norway',\n",
    "    'united kingdom', # United Kingdom\n",
    "    'russia', # Russian Federation\n",
    "    'china',\n",
    "    'united states', # United States\n",
    "]"
   ]
  },
  {
   "cell_type": "markdown",
   "id": "dbe4c2bf-9601-495f-b6e3-4eecf6b1f229",
   "metadata": {},
   "source": [
    "# Cost Per Capita"
   ]
  },
  {
   "cell_type": "code",
   "execution_count": null,
   "id": "ed95a668-5ebb-4291-9c9f-108c081696f5",
   "metadata": {},
   "outputs": [],
   "source": [
    "cost = read_data(file_name='cost_per_capita.csv')\n",
    "cost = (\n",
    "    cost\n",
    "    .with_columns(\n",
    "        country = cost['country'].str.to_lowercase(),\n",
    "    )\n",
    "    .filter(pl.col('country').is_in(countries))\n",
    "    .unpivot(\n",
    "        index=['country', ],\n",
    "        variable_name='year',\n",
    "        value_name='value',\n",
    "    )\n",
    "    .with_columns(\n",
    "        year = pl.col('year').cast(int),\n",
    "    )\n",
    "    .drop_nulls()\n",
    "    .sort('country')\n",
    ")\n",
    "save_data(data=cost, file_name='healthcare_cost_per_capita.csv')\n",
    "cost.head()"
   ]
  },
  {
   "cell_type": "code",
   "execution_count": null,
   "id": "6b929810-f2b6-488d-99a9-060650ac4e4c",
   "metadata": {},
   "outputs": [],
   "source": [
    "f, ax = plt.subplots(1,1, figsize=[22,8])\n",
    "sns.lineplot(data=cost, x='year', y='value', hue='country', ax=ax)\n",
    "\n",
    "last = (\n",
    "    cost\n",
    "    .join(\n",
    "        other=(\n",
    "            cost\n",
    "            .group_by('country')\n",
    "            .agg(\n",
    "                pl.max('year')\n",
    "            )\n",
    "        ),\n",
    "        on=['country', 'year'],\n",
    "        how='inner',\n",
    "    )  \n",
    ")\n",
    "for country in last['country']:\n",
    "    data = last.filter(pl.col('country')==country)\n",
    "    plt.text(x=data['year'].to_numpy()[0], y=data['value'].to_numpy()[0], s=data['country'].to_numpy()[0])\n",
    "\n",
    "plt.title(\"What are per-capita healthcare costs over time?\", fontsize=28)"
   ]
  },
  {
   "cell_type": "markdown",
   "id": "25ff7096-8e82-4ca7-b392-c2416b16725a",
   "metadata": {},
   "source": [
    "# Life Expentancy"
   ]
  },
  {
   "cell_type": "code",
   "execution_count": null,
   "id": "f8ea9c02-f092-4cdd-8fc2-600f9672e4cf",
   "metadata": {},
   "outputs": [],
   "source": [
    "life = read_data(file_name='life_expectancy.csv')\n",
    "\n",
    "life = (\n",
    "    life\n",
    "    .with_columns(\n",
    "        country = life['country'].str.to_lowercase(),\n",
    "        year = pl.col('year').cast(int),\n",
    "    )\n",
    "    .filter(pl.col('country').is_in(countries))\n",
    "    .filter(pl.col('sex')==\"Both sexes\")\n",
    "    .drop_nulls()\n",
    "    .sort('country')\n",
    ")\n",
    "save_data(data=life, file_name=\"healthcare_life_expectancy.csv\")\n",
    "life.head()"
   ]
  },
  {
   "cell_type": "code",
   "execution_count": null,
   "id": "18c83915-9b9e-4709-bd40-ed81746ab334",
   "metadata": {},
   "outputs": [],
   "source": [
    "data = life\n",
    "f, ax = plt.subplots(1,1, figsize=[22,8])\n",
    "sns.lineplot(data=data, x='year', y='value', hue='country', ax=ax)\n",
    "\n",
    "last = (\n",
    "    data\n",
    "    .join(\n",
    "        other=(\n",
    "            data\n",
    "            .group_by('country')\n",
    "            .agg(\n",
    "                pl.max('year')\n",
    "            )\n",
    "        ),\n",
    "        on=['country', 'year'],\n",
    "        how='inner',\n",
    "    )  \n",
    ")\n",
    "for country in last['country']:\n",
    "    data_country = last.filter(pl.col('country')==country)\n",
    "    plt.text(x=data_country['year'].to_numpy()[0], y=data_country['value'].to_numpy()[0], s=data_country['country'].to_numpy()[0])\n",
    "\n",
    "plt.title(\"What is life expectancy over time?\", fontsize=28)"
   ]
  },
  {
   "cell_type": "markdown",
   "id": "18775b6b-ef3d-4b22-a98d-a89887118499",
   "metadata": {},
   "source": [
    "# Plotly"
   ]
  },
  {
   "cell_type": "code",
   "execution_count": null,
   "id": "c94c86ab-3274-4bb2-983e-541c507857fe",
   "metadata": {},
   "outputs": [],
   "source": [
    "def plot_timeseries_multiple_countries(data, title, yaxis_title):\n",
    "    last = (\n",
    "        data\n",
    "        .join(\n",
    "            other=(\n",
    "                data\n",
    "                .group_by('country')\n",
    "                .agg(\n",
    "                    pl.max('year')\n",
    "                )\n",
    "            ),\n",
    "            on=['country', 'year'],\n",
    "            how='inner',\n",
    "        )  \n",
    "    )\n",
    "    \n",
    "    fig = go.Figure(\n",
    "        data = (\n",
    "            [\n",
    "                go.Scatter(\n",
    "                    name=f\"{country}\",\n",
    "                    mode='lines',\n",
    "                    x=data.filter(pl.col('country')==country)['year'],\n",
    "                    y=data.filter(pl.col('country')==country)['value'],\n",
    "                ) for country in countries\n",
    "            ] + [\n",
    "                go.Scatter(\n",
    "                    name=\"NONE\",\n",
    "                    mode='text',\n",
    "                    x=last.filter(pl.col('country')==country)['year'],\n",
    "                    y=last.filter(pl.col('country')==country)['value'],\n",
    "                    text=f\"<b>{country.title()}</b>\" if country=='united states' else f\"{country.title()}\",\n",
    "                    textposition='middle right',\n",
    "                ) for country in countries\n",
    "            ]\n",
    "        )\n",
    "    )\n",
    "    \n",
    "    fig.update_layout(\n",
    "        title=dict(\n",
    "            text=f\"<b>{title}</b>\",\n",
    "        ),\n",
    "        yaxis_title=f\"{yaxis_title}\",\n",
    "        xaxis=dict(\n",
    "            range=[2000, 2026],\n",
    "        ),\n",
    "        showlegend=False,\n",
    "        # template=get_color_template(input.dark_mode()),\n",
    "        # paper_bgcolor=get_background_color_plotly(input.dark_mode()),\n",
    "    )\n",
    "    \n",
    "    for trace in fig['data']:\n",
    "        if 'NONE' in trace['name']:\n",
    "            trace['showlegend']=False\n",
    "    \n",
    "    fig.show()"
   ]
  },
  {
   "cell_type": "code",
   "execution_count": null,
   "id": "a51fb430-aa02-4b51-822a-78a922ead22f",
   "metadata": {},
   "outputs": [],
   "source": [
    "plot_timeseries_multiple_countries(data=cost, title=\"What do we spend on healthcare per person?\", yaxis_title='cost per person')"
   ]
  },
  {
   "cell_type": "code",
   "execution_count": null,
   "id": "bfb27b46-b36d-4cf4-919a-72131f04a52a",
   "metadata": {},
   "outputs": [],
   "source": [
    "plot_timeseries_multiple_countries(data=life, title=\"Does America's high spending on healthcare lead to better outcomes?\", yaxis_title=\"life expectancy\")\n"
   ]
  },
  {
   "cell_type": "code",
   "execution_count": null,
   "id": "5220802a-9435-4bec-a473-232a52052942",
   "metadata": {},
   "outputs": [],
   "source": []
  },
  {
   "cell_type": "code",
   "execution_count": null,
   "id": "28dc9e75-be20-4fef-8374-f3061f9ed7df",
   "metadata": {},
   "outputs": [],
   "source": []
  }
 ],
 "metadata": {
  "kernelspec": {
   "display_name": "Python 3 (ipykernel)",
   "language": "python",
   "name": "python3"
  },
  "language_info": {
   "codemirror_mode": {
    "name": "ipython",
    "version": 3
   },
   "file_extension": ".py",
   "mimetype": "text/x-python",
   "name": "python",
   "nbconvert_exporter": "python",
   "pygments_lexer": "ipython3",
   "version": "3.11.7"
  }
 },
 "nbformat": 4,
 "nbformat_minor": 5
}
