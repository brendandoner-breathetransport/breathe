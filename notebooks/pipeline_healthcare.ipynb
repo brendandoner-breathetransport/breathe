{
 "cells": [
  {
   "cell_type": "markdown",
   "id": "c8e9bdc5-f2db-4a93-a88e-b9ab387649ad",
   "metadata": {},
   "source": [
    "# Load"
   ]
  },
  {
   "cell_type": "code",
   "execution_count": 2,
   "id": "86190c13-2da5-43d4-b977-823c09f2509f",
   "metadata": {},
   "outputs": [
    {
     "data": {
      "text/plain": [
       "'C:\\\\Users\\\\brend\\\\Dropbox\\\\Breathe\\\\data_raw\\\\healthcare\\\\'"
      ]
     },
     "execution_count": 2,
     "metadata": {},
     "output_type": "execute_result"
    }
   ],
   "source": [
    "import numpy as np\n",
    "import pandas as pd\n",
    "import polars as pl\n",
    "import os\n",
    "\n",
    "import matplotlib.pyplot as plt\n",
    "import seaborn as sns\n",
    "import plotly.graph_objects as go\n",
    "from plotly.subplots import make_subplots\n",
    "\n",
    "import pathlib\n",
    "from pathlib import Path\n",
    "\n",
    "directory_raw = str(Path.cwd().parent) + '\\\\data_raw\\\\healthcare\\\\'\n",
    "\n",
    "directory_processed = str(Path.cwd().parent) + '\\\\data\\\\healthcare\\\\'\n",
    "directory_raw"
   ]
  },
  {
   "cell_type": "markdown",
   "id": "030964d2-11b8-469b-856e-2ea0b18b988b",
   "metadata": {},
   "source": [
    "# Fuctions & Parameters"
   ]
  },
  {
   "cell_type": "code",
   "execution_count": 47,
   "id": "2d6f3db8-dbb4-41ee-8d25-12b4c691ff24",
   "metadata": {},
   "outputs": [],
   "source": [
    "def read_data(file_name):\n",
    "    # data = pl.from_pandas(pd.read_csv(directory_raw+'/'+file_name))\n",
    "    data = pl.from_pandas(pd.read_csv(directory_raw + file_name))\n",
    "    return data\n",
    "\n",
    "def save_data(data, file_name):\n",
    "    data.write_csv(directory_processed + file_name)\n",
    "    print(f\"{file_name} has been saved.\")"
   ]
  },
  {
   "cell_type": "code",
   "execution_count": 101,
   "id": "10224064-5f57-4d06-89d8-a74ab4b89a0b",
   "metadata": {},
   "outputs": [],
   "source": [
    "countries = [\n",
    "    'costa rica',\n",
    "    'mexico',\n",
    "    'australia', \n",
    "    'france', \n",
    "    'switzerland', \n",
    "    'canada',\n",
    "    'germany',\n",
    "    'italy',\n",
    "    'japan',\n",
    "    'new zealand', # New Zealand\n",
    "    'norway',\n",
    "    'united kingdom', # United Kingdom\n",
    "    'russia', # Russian Federation\n",
    "    'china',\n",
    "    'united states', # United States\n",
    "]"
   ]
  },
  {
   "cell_type": "markdown",
   "id": "dbe4c2bf-9601-495f-b6e3-4eecf6b1f229",
   "metadata": {},
   "source": [
    "# Cost Per Capita"
   ]
  },
  {
   "cell_type": "code",
   "execution_count": 111,
   "id": "ed95a668-5ebb-4291-9c9f-108c081696f5",
   "metadata": {},
   "outputs": [
    {
     "name": "stdout",
     "output_type": "stream",
     "text": [
      "healthcare_cost_per_capita.csv has been saved.\n"
     ]
    },
    {
     "data": {
      "text/html": [
       "<div><style>\n",
       ".dataframe > thead > tr,\n",
       ".dataframe > tbody > tr {\n",
       "  text-align: right;\n",
       "  white-space: pre-wrap;\n",
       "}\n",
       "</style>\n",
       "<small>shape: (5, 3)</small><table border=\"1\" class=\"dataframe\"><thead><tr><th>country</th><th>year</th><th>value</th></tr><tr><td>str</td><td>i64</td><td>f64</td></tr></thead><tbody><tr><td>&quot;australia&quot;</td><td>2000</td><td>1636.528564</td></tr><tr><td>&quot;australia&quot;</td><td>2001</td><td>1559.821289</td></tr><tr><td>&quot;australia&quot;</td><td>2002</td><td>1763.695679</td></tr><tr><td>&quot;australia&quot;</td><td>2003</td><td>2240.746094</td></tr><tr><td>&quot;australia&quot;</td><td>2004</td><td>2760.830811</td></tr></tbody></table></div>"
      ],
      "text/plain": [
       "shape: (5, 3)\n",
       "┌───────────┬──────┬─────────────┐\n",
       "│ country   ┆ year ┆ value       │\n",
       "│ ---       ┆ ---  ┆ ---         │\n",
       "│ str       ┆ i64  ┆ f64         │\n",
       "╞═══════════╪══════╪═════════════╡\n",
       "│ australia ┆ 2000 ┆ 1636.528564 │\n",
       "│ australia ┆ 2001 ┆ 1559.821289 │\n",
       "│ australia ┆ 2002 ┆ 1763.695679 │\n",
       "│ australia ┆ 2003 ┆ 2240.746094 │\n",
       "│ australia ┆ 2004 ┆ 2760.830811 │\n",
       "└───────────┴──────┴─────────────┘"
      ]
     },
     "execution_count": 111,
     "metadata": {},
     "output_type": "execute_result"
    }
   ],
   "source": [
    "cost = read_data(file_name='cost_per_capita.csv')\n",
    "cost = (\n",
    "    cost\n",
    "    .with_columns(\n",
    "        country = cost['country'].str.to_lowercase(),\n",
    "    )\n",
    "    .filter(pl.col('country').is_in(countries))\n",
    "    .unpivot(\n",
    "        index=['country', ],\n",
    "        variable_name='year',\n",
    "        value_name='value',\n",
    "    )\n",
    "    .with_columns(\n",
    "        year = pl.col('year').cast(int),\n",
    "    )\n",
    "    .drop_nulls()\n",
    "    .sort('country')\n",
    ")\n",
    "save_data(data=cost, file_name='healthcare_cost_per_capita.csv')\n",
    "cost.head()"
   ]
  },
  {
   "cell_type": "code",
   "execution_count": 104,
   "id": "6b929810-f2b6-488d-99a9-060650ac4e4c",
   "metadata": {},
   "outputs": [
    {
     "name": "stderr",
     "output_type": "stream",
     "text": [
      "C:\\Users\\brend\\anaconda3\\Lib\\site-packages\\seaborn\\_oldcore.py:1119: FutureWarning:\n",
      "\n",
      "use_inf_as_na option is deprecated and will be removed in a future version. Convert inf values to NaN before operating instead.\n",
      "\n",
      "C:\\Users\\brend\\anaconda3\\Lib\\site-packages\\seaborn\\_oldcore.py:1119: FutureWarning:\n",
      "\n",
      "use_inf_as_na option is deprecated and will be removed in a future version. Convert inf values to NaN before operating instead.\n",
      "\n"
     ]
    },
    {
     "data": {
      "text/plain": [
       "Text(0.5, 1.0, 'What are per-capita healthcare costs over time?')"
      ]
     },
     "execution_count": 104,
     "metadata": {},
     "output_type": "execute_result"
    },
    {
     "data": {
      "image/png": "[encoded data removed]",
      "text/plain": [
       "<Figure size 2200x800 with 1 Axes>"
      ]
     },
     "metadata": {},
     "output_type": "display_data"
    }
   ],
   "source": [
    "f, ax = plt.subplots(1,1, figsize=[22,8])\n",
    "sns.lineplot(data=cost, x='year', y='value', hue='country', ax=ax)\n",
    "\n",
    "last = (\n",
    "    cost\n",
    "    .join(\n",
    "        other=(\n",
    "            cost\n",
    "            .group_by('country')\n",
    "            .agg(\n",
    "                pl.max('year')\n",
    "            )\n",
    "        ),\n",
    "        on=['country', 'year'],\n",
    "        how='inner',\n",
    "    )  \n",
    ")\n",
    "for country in last['country']:\n",
    "    data = last.filter(pl.col('country')==country)\n",
    "    plt.text(x=data['year'].to_numpy()[0], y=data['value'].to_numpy()[0], s=data['country'].to_numpy()[0])\n",
    "\n",
    "plt.title(\"What are per-capita healthcare costs over time?\", fontsize=28)"
   ]
  },
  {
   "cell_type": "markdown",
   "id": "25ff7096-8e82-4ca7-b392-c2416b16725a",
   "metadata": {},
   "source": [
    "# Life Expentancy"
   ]
  },
  {
   "cell_type": "code",
   "execution_count": 105,
   "id": "f8ea9c02-f092-4cdd-8fc2-600f9672e4cf",
   "metadata": {},
   "outputs": [
    {
     "name": "stdout",
     "output_type": "stream",
     "text": [
      "healthcare_life_expectancy.csv has been saved.\n"
     ]
    },
    {
     "data": {
      "text/html": [
       "<div><style>\n",
       ".dataframe > thead > tr,\n",
       ".dataframe > tbody > tr {\n",
       "  text-align: right;\n",
       "  white-space: pre-wrap;\n",
       "}\n",
       "</style>\n",
       "<small>shape: (5, 8)</small><table border=\"1\" class=\"dataframe\"><thead><tr><th>metric</th><th>country</th><th>year</th><th>sex</th><th>value</th><th>low</th><th>high</th><th>date_modified</th></tr><tr><td>str</td><td>str</td><td>i64</td><td>str</td><td>f64</td><td>f64</td><td>f64</td><td>str</td></tr></thead><tbody><tr><td>&quot;Life expectancy at birth (year…</td><td>&quot;australia&quot;</td><td>2021</td><td>&quot;Both sexes&quot;</td><td>83.1</td><td>83.07</td><td>83.19</td><td>&quot;2024-08-02T06:00:00.000Z&quot;</td></tr><tr><td>&quot;Life expectancy at birth (year…</td><td>&quot;australia&quot;</td><td>2020</td><td>&quot;Both sexes&quot;</td><td>83.37</td><td>83.35</td><td>83.44</td><td>&quot;2024-08-02T06:00:00.000Z&quot;</td></tr><tr><td>&quot;Life expectancy at birth (year…</td><td>&quot;australia&quot;</td><td>2019</td><td>&quot;Both sexes&quot;</td><td>82.64</td><td>82.63</td><td>82.72</td><td>&quot;2024-08-02T06:00:00.000Z&quot;</td></tr><tr><td>&quot;Life expectancy at birth (year…</td><td>&quot;australia&quot;</td><td>2018</td><td>&quot;Both sexes&quot;</td><td>83.02</td><td>83.02</td><td>83.09</td><td>&quot;2024-08-02T06:00:00.000Z&quot;</td></tr><tr><td>&quot;Life expectancy at birth (year…</td><td>&quot;australia&quot;</td><td>2017</td><td>&quot;Both sexes&quot;</td><td>82.68</td><td>82.68</td><td>82.75</td><td>&quot;2024-08-02T06:00:00.000Z&quot;</td></tr></tbody></table></div>"
      ],
      "text/plain": [
       "shape: (5, 8)\n",
       "┌─────────────────────────────────┬───────────┬──────┬────────────┬───────┬───────┬───────┬──────────────────────────┐\n",
       "│ metric                          ┆ country   ┆ year ┆ sex        ┆ value ┆ low   ┆ high  ┆ date_modified            │\n",
       "│ ---                             ┆ ---       ┆ ---  ┆ ---        ┆ ---   ┆ ---   ┆ ---   ┆ ---                      │\n",
       "│ str                             ┆ str       ┆ i64  ┆ str        ┆ f64   ┆ f64   ┆ f64   ┆ str                      │\n",
       "╞═════════════════════════════════╪═══════════╪══════╪════════════╪═══════╪═══════╪═══════╪══════════════════════════╡\n",
       "│ Life expectancy at birth (year… ┆ australia ┆ 2021 ┆ Both sexes ┆ 83.1  ┆ 83.07 ┆ 83.19 ┆ 2024-08-02T06:00:00.000Z │\n",
       "│ Life expectancy at birth (year… ┆ australia ┆ 2020 ┆ Both sexes ┆ 83.37 ┆ 83.35 ┆ 83.44 ┆ 2024-08-02T06:00:00.000Z │\n",
       "│ Life expectancy at birth (year… ┆ australia ┆ 2019 ┆ Both sexes ┆ 82.64 ┆ 82.63 ┆ 82.72 ┆ 2024-08-02T06:00:00.000Z │\n",
       "│ Life expectancy at birth (year… ┆ australia ┆ 2018 ┆ Both sexes ┆ 83.02 ┆ 83.02 ┆ 83.09 ┆ 2024-08-02T06:00:00.000Z │\n",
       "│ Life expectancy at birth (year… ┆ australia ┆ 2017 ┆ Both sexes ┆ 82.68 ┆ 82.68 ┆ 82.75 ┆ 2024-08-02T06:00:00.000Z │\n",
       "└─────────────────────────────────┴───────────┴──────┴────────────┴───────┴───────┴───────┴──────────────────────────┘"
      ]
     },
     "execution_count": 105,
     "metadata": {},
     "output_type": "execute_result"
    }
   ],
   "source": [
    "life = read_data(file_name='life_expectancy.csv')\n",
    "\n",
    "life = (\n",
    "    life\n",
    "    .with_columns(\n",
    "        country = life['country'].str.to_lowercase(),\n",
    "        year = pl.col('year').cast(int),\n",
    "    )\n",
    "    .filter(pl.col('country').is_in(countries))\n",
    "    .filter(pl.col('sex')==\"Both sexes\")\n",
    "    .drop_nulls()\n",
    "    .sort('country')\n",
    ")\n",
    "save_data(data=life, file_name=\"healthcare_life_expectancy.csv\")\n",
    "life.head()"
   ]
  },
  {
   "cell_type": "code",
   "execution_count": 106,
   "id": "18c83915-9b9e-4709-bd40-ed81746ab334",
   "metadata": {},
   "outputs": [
    {
     "name": "stderr",
     "output_type": "stream",
     "text": [
      "C:\\Users\\brend\\anaconda3\\Lib\\site-packages\\seaborn\\_oldcore.py:1119: FutureWarning:\n",
      "\n",
      "use_inf_as_na option is deprecated and will be removed in a future version. Convert inf values to NaN before operating instead.\n",
      "\n",
      "C:\\Users\\brend\\anaconda3\\Lib\\site-packages\\seaborn\\_oldcore.py:1119: FutureWarning:\n",
      "\n",
      "use_inf_as_na option is deprecated and will be removed in a future version. Convert inf values to NaN before operating instead.\n",
      "\n"
     ]
    },
    {
     "data": {
      "text/plain": [
       "Text(0.5, 1.0, 'What is life expectancy over time?')"
      ]
     },
     "execution_count": 106,
     "metadata": {},
     "output_type": "execute_result"
    },
    {
     "data": {
      "image/png": "[encoded data removed]",
      "text/plain": [
       "<Figure size 2200x800 with 1 Axes>"
      ]
     },
     "metadata": {},
     "output_type": "display_data"
    }
   ],
   "source": [
    "data = life\n",
    "f, ax = plt.subplots(1,1, figsize=[22,8])\n",
    "sns.lineplot(data=data, x='year', y='value', hue='country', ax=ax)\n",
    "\n",
    "last = (\n",
    "    data\n",
    "    .join(\n",
    "        other=(\n",
    "            data\n",
    "            .group_by('country')\n",
    "            .agg(\n",
    "                pl.max('year')\n",
    "            )\n",
    "        ),\n",
    "        on=['country', 'year'],\n",
    "        how='inner',\n",
    "    )  \n",
    ")\n",
    "for country in last['country']:\n",
    "    data_country = last.filter(pl.col('country')==country)\n",
    "    plt.text(x=data_country['year'].to_numpy()[0], y=data_country['value'].to_numpy()[0], s=data_country['country'].to_numpy()[0])\n",
    "\n",
    "plt.title(\"What is life expectancy over time?\", fontsize=28)"
   ]
  },
  {
   "cell_type": "markdown",
   "id": "18775b6b-ef3d-4b22-a98d-a89887118499",
   "metadata": {},
   "source": [
    "# Plotly"
   ]
  },
  {
   "cell_type": "code",
   "execution_count": 108,
   "id": "c94c86ab-3274-4bb2-983e-541c507857fe",
   "metadata": {},
   "outputs": [],
   "source": [
    "def plot_timeseries_multiple_countries(data, title, yaxis_title):\n",
    "    last = (\n",
    "        data\n",
    "        .join(\n",
    "            other=(\n",
    "                data\n",
    "                .group_by('country')\n",
    "                .agg(\n",
    "                    pl.max('year')\n",
    "                )\n",
    "            ),\n",
    "            on=['country', 'year'],\n",
    "            how='inner',\n",
    "        )  \n",
    "    )\n",
    "    \n",
    "    fig = go.Figure(\n",
    "        data = (\n",
    "            [\n",
    "                go.Scatter(\n",
    "                    name=f\"{country}\",\n",
    "                    mode='lines',\n",
    "                    x=data.filter(pl.col('country')==country)['year'],\n",
    "                    y=data.filter(pl.col('country')==country)['value'],\n",
    "                ) for country in countries\n",
    "            ] + [\n",
    "                go.Scatter(\n",
    "                    name=\"NONE\",\n",
    "                    mode='text',\n",
    "                    x=last.filter(pl.col('country')==country)['year'],\n",
    "                    y=last.filter(pl.col('country')==country)['value'],\n",
    "                    text=f\"<b>{country.title()}</b>\" if country=='united states' else f\"{country.title()}\",\n",
    "                    textposition='middle right',\n",
    "                ) for country in countries\n",
    "            ]\n",
    "        )\n",
    "    )\n",
    "    \n",
    "    fig.update_layout(\n",
    "        title=dict(\n",
    "            text=f\"<b>{title}</b>\",\n",
    "        ),\n",
    "        yaxis_title=f\"{yaxis_title}\",\n",
    "        xaxis=dict(\n",
    "            range=[2000, 2026],\n",
    "        ),\n",
    "        showlegend=False,\n",
    "        # template=get_color_template(input.dark_mode()),\n",
    "        # paper_bgcolor=get_background_color_plotly(input.dark_mode()),\n",
    "    )\n",
    "    \n",
    "    for trace in fig['data']:\n",
    "        if 'NONE' in trace['name']:\n",
    "            trace['showlegend']=False\n",
    "    \n",
    "    fig.show()"
   ]
  },
  {
   "cell_type": "code",
   "execution_count": 109,
   "id": "a51fb430-aa02-4b51-822a-78a922ead22f",
   "metadata": {},
   "outputs": [
    {
     "data": {
      "application/vnd.plotly.v1+json": {
       "config": {
        "plotlyServerURL": "https://plot.ly"
       },
       "data": [
        {
         "mode": "lines",
         "name": "costa rica",
         "type": "scatter",
         "x": [
          2000,
          2001,
          2002,
          2003,
          2004,
          2005,
          2006,
          2007,
          2008,
          2009,
          2010,
          2011,
          2012,
          2013,
          2014,
          2015,
          2016,
          2017,
          2018,
          2019,
          2020,
          2021
         ],
         "y": [
          247.701889,
          255.182312,
          276.2371216,
          287.3734741,
          290.1335449,
          309.5142822,
          359.7924805,
          423.6381226,
          510.9915466,
          529.6087036,
          654.1734009,
          742.1419067,
          776.4348755,
          816.8787231,
          822.9100342,
          875.3497315,
          870.7384033,
          853.7504883,
          902.2211914,
          914.8847046,
          953.0825195,
          948.9216309
         ]
        },
        {
         "mode": "lines",
         "name": "mexico",
         "type": "scatter",
         "x": [
          2000,
          2001,
          2002,
          2003,
          2004,
          2005,
          2006,
          2007,
          2008,
          2009,
          2010,
          2011,
          2012,
          2013,
          2014,
          2015,
          2016,
          2017,
          2018,
          2019,
          2020,
          2021
         ],
         "y": [
          321.801239,
          366.9807129,
          388.0279236,
          414.0400085,
          448.0602112,
          485.6738892,
          516.0639648,
          560.4942627,
          576.7153931,
          496.8142395,
          539.2655029,
          570.7304688,
          587.8284302,
          631.213501,
          615.1031494,
          558.1651001,
          492.8739929,
          514.8897095,
          530.6478272,
          552.7042236,
          538.5175171,
          610.6453247
         ]
        },
        {
         "mode": "lines",
         "name": "australia",
         "type": "scatter",
         "x": [
          2000,
          2001,
          2002,
          2003,
          2004,
          2005,
          2006,
          2007,
          2008,
          2009,
          2010,
          2011,
          2012,
          2013,
          2014,
          2015,
          2016,
          2017,
          2018,
          2019,
          2020,
          2021
         ],
         "y": [
          1636.528564,
          1559.821289,
          1763.695679,
          2240.746094,
          2760.830811,
          3014.104736,
          3194.030762,
          3815.336426,
          4107.012695,
          4011.932617,
          4975.470703,
          5909.149902,
          6071.650879,
          5843.173828,
          6130.998535,
          5322.971191,
          5453.924805,
          5813.61377,
          5857.288086,
          5545.910645,
          5958.765625,
          7055.368164
         ]
        },
        {
         "mode": "lines",
         "name": "france",
         "type": "scatter",
         "x": [
          2000,
          2001,
          2002,
          2003,
          2004,
          2005,
          2006,
          2007,
          2008,
          2009,
          2010,
          2011,
          2012,
          2013,
          2014,
          2015,
          2016,
          2017,
          2018,
          2019,
          2020,
          2021
         ],
         "y": [
          2161.853027,
          2192.715576,
          2449.758301,
          3006.305908,
          3458.627441,
          3575.025146,
          3811.551758,
          4312.310547,
          4807.374512,
          4737.578125,
          4592.383301,
          4931.87793,
          4644.595703,
          4884.766602,
          4980.814941,
          4201.781738,
          4256.765625,
          4410.599121,
          4666.97998,
          4504.484863,
          4755.44043,
          5380.875
         ]
        },
        {
         "mode": "lines",
         "name": "switzerland",
         "type": "scatter",
         "x": [
          2000,
          2001,
          2002,
          2003,
          2004,
          2005,
          2006,
          2007,
          2008,
          2009,
          2010,
          2011,
          2012,
          2013,
          2014,
          2015,
          2016,
          2017,
          2018,
          2019,
          2020,
          2021
         ],
         "y": [
          3559.819824,
          3763.384521,
          4211.729492,
          5018.527344,
          5608.703125,
          5673.939941,
          5671.981445,
          6154.703125,
          7120.652832,
          7297.379883,
          7640.449219,
          9138.367188,
          8753.820313,
          9118.189453,
          9307.96875,
          9082.450195,
          9078.758789,
          9119.969727,
          9212.432617,
          9341.0625,
          10085.45605,
          10897.4502
         ]
        },
        {
         "mode": "lines",
         "name": "canada",
         "type": "scatter",
         "x": [
          2000,
          2001,
          2002,
          2003,
          2004,
          2005,
          2006,
          2007,
          2008,
          2009,
          2010,
          2011,
          2012,
          2013,
          2014,
          2015,
          2016,
          2017,
          2018,
          2019,
          2020,
          2021,
          2022
         ],
         "y": [
          2001.668701,
          2055.759521,
          2149.379395,
          2552.263916,
          2916.251221,
          3291.220703,
          3788.686035,
          4221.928711,
          4491.229004,
          4368.856934,
          5083.981934,
          5423.059082,
          5538.935547,
          5483.255859,
          5231.736328,
          4677.830078,
          4667.703125,
          4920.728516,
          5080.323242,
          5115.976074,
          5668.347656,
          6470.067871,
          6207.181641
         ]
        },
        {
         "mode": "lines",
         "name": "germany",
         "type": "scatter",
         "x": [
          2000,
          2001,
          2002,
          2003,
          2004,
          2005,
          2006,
          2007,
          2008,
          2009,
          2010,
          2011,
          2012,
          2013,
          2014,
          2015,
          2016,
          2017,
          2018,
          2019,
          2020,
          2021,
          2022
         ],
         "y": [
          2344.410889,
          2346.669189,
          2567.50293,
          3152.794189,
          3459.824951,
          3558.213379,
          3698.043701,
          4182.916016,
          4669.760254,
          4674.919434,
          4611.421875,
          5037.491699,
          4765.678711,
          5100.152344,
          5309.154785,
          4627.35791,
          4746.870117,
          5070.195801,
          5511.214355,
          5486.98877,
          5936.251465,
          6626.004883,
          6191.035156
         ]
        },
        {
         "mode": "lines",
         "name": "italy",
         "type": "scatter",
         "x": [
          2000,
          2001,
          2002,
          2003,
          2004,
          2005,
          2006,
          2007,
          2008,
          2009,
          2010,
          2011,
          2012,
          2013,
          2014,
          2015,
          2016,
          2017,
          2018,
          2019,
          2020,
          2021,
          2022
         ],
         "y": [
          1524,
          1587,
          1763,
          2163,
          2566,
          2678,
          2833,
          3093,
          3504,
          3338,
          3218,
          3392,
          3086,
          3149,
          3154,
          2676,
          2700,
          2810,
          3003,
          2911,
          3062,
          3350,
          3066
         ]
        },
        {
         "mode": "lines",
         "name": "japan",
         "type": "scatter",
         "x": [
          2000,
          2001,
          2002,
          2003,
          2004,
          2005,
          2006,
          2007,
          2008,
          2009,
          2010,
          2011,
          2012,
          2013,
          2014,
          2015,
          2016,
          2017,
          2018,
          2019,
          2020,
          2021
         ],
         "y": [
          2756,
          2492,
          2416,
          2654,
          2888,
          2895,
          2766,
          2783,
          3225,
          3699,
          4074,
          5107,
          5235,
          4358,
          4122,
          3755,
          4200,
          4148,
          4288,
          4463,
          4436,
          4347
         ]
        },
        {
         "mode": "lines",
         "name": "new zealand",
         "type": "scatter",
         "x": [
          2000,
          2001,
          2002,
          2003,
          2004,
          2005,
          2006,
          2007,
          2008,
          2009,
          2010,
          2011,
          2012,
          2013,
          2014,
          2015,
          2016,
          2017,
          2018,
          2019,
          2020,
          2021
         ],
         "y": [
          1054.912109,
          1054.328003,
          1250.928955,
          1611.790405,
          1983.187012,
          2296.607666,
          2305.146484,
          2706.799561,
          2851.119141,
          2713.814209,
          3233.778564,
          3656.730713,
          3856.173096,
          4014.974609,
          4192.743652,
          3600.956299,
          3739.401367,
          3903.68042,
          3957.86084,
          4085.788086,
          4223.22168,
          4906.070801
         ]
        },
        {
         "mode": "lines",
         "name": "norway",
         "type": "scatter",
         "x": [
          2000,
          2001,
          2002,
          2003,
          2004,
          2005,
          2006,
          2007,
          2008,
          2009,
          2010,
          2011,
          2012,
          2013,
          2014,
          2015,
          2016,
          2017,
          2018,
          2019,
          2020,
          2021,
          2022
         ],
         "y": [
          2949,
          3099,
          3890,
          4633,
          5097,
          5585,
          5893,
          6896,
          7768,
          7302,
          7860,
          8900,
          8970,
          9241,
          9118,
          7566,
          7497,
          7816,
          8272,
          8007,
          7825,
          9163,
          8693
         ]
        },
        {
         "mode": "lines",
         "name": "united kingdom",
         "type": "scatter",
         "x": [
          2000,
          2001,
          2002,
          2003,
          2004,
          2005,
          2006,
          2007,
          2008,
          2009,
          2010,
          2011,
          2012,
          2013,
          2014,
          2015,
          2016,
          2017,
          2018,
          2019,
          2020,
          2021,
          2022
         ],
         "y": [
          2020.52832,
          2052.34668,
          2306.128418,
          2784.539551,
          3366.341553,
          3536.322998,
          3857.485596,
          4367.535645,
          4297.475098,
          3914.195801,
          3956.388916,
          4199.083984,
          4242.234863,
          4304.478027,
          4697.760254,
          4433.858398,
          4017.342285,
          3910.814209,
          4226.205078,
          4268.677246,
          4906.239746,
          5738.484863,
          5138.63623
         ]
        },
        {
         "mode": "lines",
         "name": "russia",
         "type": "scatter",
         "x": [],
         "y": []
        },
        {
         "mode": "lines",
         "name": "china",
         "type": "scatter",
         "x": [
          2000,
          2001,
          2002,
          2003,
          2004,
          2005,
          2006,
          2007,
          2008,
          2009,
          2010,
          2011,
          2012,
          2013,
          2014,
          2015,
          2016,
          2017,
          2018,
          2019,
          2020,
          2021
         ],
         "y": [
          42.99362183,
          44.56903839,
          50.15548325,
          56.79228973,
          64.54340363,
          73.29019928,
          82.79460144,
          98.87766266,
          134.2076416,
          165.2944489,
          189.3437042,
          239.7543335,
          285.31427,
          329.7810669,
          363.0093994,
          393.7799072,
          398.7892151,
          440.588501,
          504.7997437,
          539.6194458,
          583.4321899,
          670.5145874
         ]
        },
        {
         "mode": "lines",
         "name": "united states",
         "type": "scatter",
         "x": [
          2000,
          2001,
          2002,
          2003,
          2004,
          2005,
          2006,
          2007,
          2008,
          2009,
          2010,
          2011,
          2012,
          2013,
          2014,
          2015,
          2016,
          2017,
          2018,
          2019,
          2020,
          2021,
          2022
         ],
         "y": [
          4533.826172,
          4881.20752,
          5304.52002,
          5708.551758,
          6047.818359,
          6404.186035,
          6779.227539,
          7132.446777,
          7347.45459,
          7602.745605,
          7833.044922,
          8021.593262,
          8274.37207,
          8433.698242,
          8828.476563,
          9248.93457,
          9599.890625,
          9902.818359,
          10280.52637,
          10658.39746,
          11758.4248,
          12012.24121,
          12473.79102
         ]
        },
        {
         "mode": "text",
         "name": "NONE",
         "showlegend": false,
         "text": "Costa Rica",
         "textposition": "middle right",
         "type": "scatter",
         "x": [
          2021
         ],
         "y": [
          948.9216309
         ]
        },
        {
         "mode": "text",
         "name": "NONE",
         "showlegend": false,
         "text": "Mexico",
         "textposition": "middle right",
         "type": "scatter",
         "x": [
          2021
         ],
         "y": [
          610.6453247
         ]
        },
        {
         "mode": "text",
         "name": "NONE",
         "showlegend": false,
         "text": "Australia",
         "textposition": "middle right",
         "type": "scatter",
         "x": [
          2021
         ],
         "y": [
          7055.368164
         ]
        },
        {
         "mode": "text",
         "name": "NONE",
         "showlegend": false,
         "text": "France",
         "textposition": "middle right",
         "type": "scatter",
         "x": [
          2021
         ],
         "y": [
          5380.875
         ]
        },
        {
         "mode": "text",
         "name": "NONE",
         "showlegend": false,
         "text": "Switzerland",
         "textposition": "middle right",
         "type": "scatter",
         "x": [
          2021
         ],
         "y": [
          10897.4502
         ]
        },
        {
         "mode": "text",
         "name": "NONE",
         "showlegend": false,
         "text": "Canada",
         "textposition": "middle right",
         "type": "scatter",
         "x": [
          2022
         ],
         "y": [
          6207.181641
         ]
        },
        {
         "mode": "text",
         "name": "NONE",
         "showlegend": false,
         "text": "Germany",
         "textposition": "middle right",
         "type": "scatter",
         "x": [
          2022
         ],
         "y": [
          6191.035156
         ]
        },
        {
         "mode": "text",
         "name": "NONE",
         "showlegend": false,
         "text": "Italy",
         "textposition": "middle right",
         "type": "scatter",
         "x": [
          2022
         ],
         "y": [
          3066
         ]
        },
        {
         "mode": "text",
         "name": "NONE",
         "showlegend": false,
         "text": "Japan",
         "textposition": "middle right",
         "type": "scatter",
         "x": [
          2021
         ],
         "y": [
          4347
         ]
        },
        {
         "mode": "text",
         "name": "NONE",
         "showlegend": false,
         "text": "New Zealand",
         "textposition": "middle right",
         "type": "scatter",
         "x": [
          2021
         ],
         "y": [
          4906.070801
         ]
        },
        {
         "mode": "text",
         "name": "NONE",
         "showlegend": false,
         "text": "Norway",
         "textposition": "middle right",
         "type": "scatter",
         "x": [
          2022
         ],
         "y": [
          8693
         ]
        },
        {
         "mode": "text",
         "name": "NONE",
         "showlegend": false,
         "text": "United Kingdom",
         "textposition": "middle right",
         "type": "scatter",
         "x": [
          2022
         ],
         "y": [
          5138.63623
         ]
        },
        {
         "mode": "text",
         "name": "NONE",
         "showlegend": false,
         "text": "Russia",
         "textposition": "middle right",
         "type": "scatter",
         "x": [],
         "y": []
        },
        {
         "mode": "text",
         "name": "NONE",
         "showlegend": false,
         "text": "China",
         "textposition": "middle right",
         "type": "scatter",
         "x": [
          2021
         ],
         "y": [
          670.5145874
         ]
        },
        {
         "mode": "text",
         "name": "NONE",
         "showlegend": false,
         "text": "<b>United States</b>",
         "textposition": "middle right",
         "type": "scatter",
         "x": [
          2022
         ],
         "y": [
          12473.79102
         ]
        }
       ],
       "layout": {
        "autosize": true,
        "showlegend": false,
        "template": {
         "data": {
          "bar": [
           {
            "error_x": {
             "color": "#2a3f5f"
            },
            "error_y": {
             "color": "#2a3f5f"
            },
            "marker": {
             "line": {
              "color": "#E5ECF6",
              "width": 0.5
             },
             "pattern": {
              "fillmode": "overlay",
              "size": 10,
              "solidity": 0.2
             }
            },
            "type": "bar"
           }
          ],
          "barpolar": [
           {
            "marker": {
             "line": {
              "color": "#E5ECF6",
              "width": 0.5
             },
             "pattern": {
              "fillmode": "overlay",
              "size": 10,
              "solidity": 0.2
             }
            },
            "type": "barpolar"
           }
          ],
          "carpet": [
           {
            "aaxis": {
             "endlinecolor": "#2a3f5f",
             "gridcolor": "white",
             "linecolor": "white",
             "minorgridcolor": "white",
             "startlinecolor": "#2a3f5f"
            },
            "baxis": {
             "endlinecolor": "#2a3f5f",
             "gridcolor": "white",
             "linecolor": "white",
             "minorgridcolor": "white",
             "startlinecolor": "#2a3f5f"
            },
            "type": "carpet"
           }
          ],
          "choropleth": [
           {
            "colorbar": {
             "outlinewidth": 0,
             "ticks": ""
            },
            "type": "choropleth"
           }
          ],
          "contour": [
           {
            "colorbar": {
             "outlinewidth": 0,
             "ticks": ""
            },
            "colorscale": [
             [
              0,
              "#0d0887"
             ],
             [
              0.1111111111111111,
              "#46039f"
             ],
             [
              0.2222222222222222,
              "#7201a8"
             ],
             [
              0.3333333333333333,
              "#9c179e"
             ],
             [
              0.4444444444444444,
              "#bd3786"
             ],
             [
              0.5555555555555556,
              "#d8576b"
             ],
             [
              0.6666666666666666,
              "#ed7953"
             ],
             [
              0.7777777777777778,
              "#fb9f3a"
             ],
             [
              0.8888888888888888,
              "#fdca26"
             ],
             [
              1,
              "#f0f921"
             ]
            ],
            "type": "contour"
           }
          ],
          "contourcarpet": [
           {
            "colorbar": {
             "outlinewidth": 0,
             "ticks": ""
            },
            "type": "contourcarpet"
           }
          ],
          "heatmap": [
           {
            "colorbar": {
             "outlinewidth": 0,
             "ticks": ""
            },
            "colorscale": [
             [
              0,
              "#0d0887"
             ],
             [
              0.1111111111111111,
              "#46039f"
             ],
             [
              0.2222222222222222,
              "#7201a8"
             ],
             [
              0.3333333333333333,
              "#9c179e"
             ],
             [
              0.4444444444444444,
              "#bd3786"
             ],
             [
              0.5555555555555556,
              "#d8576b"
             ],
             [
              0.6666666666666666,
              "#ed7953"
             ],
             [
              0.7777777777777778,
              "#fb9f3a"
             ],
             [
              0.8888888888888888,
              "#fdca26"
             ],
             [
              1,
              "#f0f921"
             ]
            ],
            "type": "heatmap"
           }
          ],
          "heatmapgl": [
           {
            "colorbar": {
             "outlinewidth": 0,
             "ticks": ""
            },
            "colorscale": [
             [
              0,
              "#0d0887"
             ],
             [
              0.1111111111111111,
              "#46039f"
             ],
             [
              0.2222222222222222,
              "#7201a8"
             ],
             [
              0.3333333333333333,
              "#9c179e"
             ],
             [
              0.4444444444444444,
              "#bd3786"
             ],
             [
              0.5555555555555556,
              "#d8576b"
             ],
             [
              0.6666666666666666,
              "#ed7953"
             ],
             [
              0.7777777777777778,
              "#fb9f3a"
             ],
             [
              0.8888888888888888,
              "#fdca26"
             ],
             [
              1,
              "#f0f921"
             ]
            ],
            "type": "heatmapgl"
           }
          ],
          "histogram": [
           {
            "marker": {
             "pattern": {
              "fillmode": "overlay",
              "size": 10,
              "solidity": 0.2
             }
            },
            "type": "histogram"
           }
          ],
          "histogram2d": [
           {
            "colorbar": {
             "outlinewidth": 0,
             "ticks": ""
            },
            "colorscale": [
             [
              0,
              "#0d0887"
             ],
             [
              0.1111111111111111,
              "#46039f"
             ],
             [
              0.2222222222222222,
              "#7201a8"
             ],
             [
              0.3333333333333333,
              "#9c179e"
             ],
             [
              0.4444444444444444,
              "#bd3786"
             ],
             [
              0.5555555555555556,
              "#d8576b"
             ],
             [
              0.6666666666666666,
              "#ed7953"
             ],
             [
              0.7777777777777778,
              "#fb9f3a"
             ],
             [
              0.8888888888888888,
              "#fdca26"
             ],
             [
              1,
              "#f0f921"
             ]
            ],
            "type": "histogram2d"
           }
          ],
          "histogram2dcontour": [
           {
            "colorbar": {
             "outlinewidth": 0,
             "ticks": ""
            },
            "colorscale": [
             [
              0,
              "#0d0887"
             ],
             [
              0.1111111111111111,
              "#46039f"
             ],
             [
              0.2222222222222222,
              "#7201a8"
             ],
             [
              0.3333333333333333,
              "#9c179e"
             ],
             [
              0.4444444444444444,
              "#bd3786"
             ],
             [
              0.5555555555555556,
              "#d8576b"
             ],
             [
              0.6666666666666666,
              "#ed7953"
             ],
             [
              0.7777777777777778,
              "#fb9f3a"
             ],
             [
              0.8888888888888888,
              "#fdca26"
             ],
             [
              1,
              "#f0f921"
             ]
            ],
            "type": "histogram2dcontour"
           }
          ],
          "mesh3d": [
           {
            "colorbar": {
             "outlinewidth": 0,
             "ticks": ""
            },
            "type": "mesh3d"
           }
          ],
          "parcoords": [
           {
            "line": {
             "colorbar": {
              "outlinewidth": 0,
              "ticks": ""
             }
            },
            "type": "parcoords"
           }
          ],
          "pie": [
           {
            "automargin": true,
            "type": "pie"
           }
          ],
          "scatter": [
           {
            "fillpattern": {
             "fillmode": "overlay",
             "size": 10,
             "solidity": 0.2
            },
            "type": "scatter"
           }
          ],
          "scatter3d": [
           {
            "line": {
             "colorbar": {
              "outlinewidth": 0,
              "ticks": ""
             }
            },
            "marker": {
             "colorbar": {
              "outlinewidth": 0,
              "ticks": ""
             }
            },
            "type": "scatter3d"
           }
          ],
          "scattercarpet": [
           {
            "marker": {
             "colorbar": {
              "outlinewidth": 0,
              "ticks": ""
             }
            },
            "type": "scattercarpet"
           }
          ],
          "scattergeo": [
           {
            "marker": {
             "colorbar": {
              "outlinewidth": 0,
              "ticks": ""
             }
            },
            "type": "scattergeo"
           }
          ],
          "scattergl": [
           {
            "marker": {
             "colorbar": {
              "outlinewidth": 0,
              "ticks": ""
             }
            },
            "type": "scattergl"
           }
          ],
          "scattermapbox": [
           {
            "marker": {
             "colorbar": {
              "outlinewidth": 0,
              "ticks": ""
             }
            },
            "type": "scattermapbox"
           }
          ],
          "scatterpolar": [
           {
            "marker": {
             "colorbar": {
              "outlinewidth": 0,
              "ticks": ""
             }
            },
            "type": "scatterpolar"
           }
          ],
          "scatterpolargl": [
           {
            "marker": {
             "colorbar": {
              "outlinewidth": 0,
              "ticks": ""
             }
            },
            "type": "scatterpolargl"
           }
          ],
          "scatterternary": [
           {
            "marker": {
             "colorbar": {
              "outlinewidth": 0,
              "ticks": ""
             }
            },
            "type": "scatterternary"
           }
          ],
          "surface": [
           {
            "colorbar": {
             "outlinewidth": 0,
             "ticks": ""
            },
            "colorscale": [
             [
              0,
              "#0d0887"
             ],
             [
              0.1111111111111111,
              "#46039f"
             ],
             [
              0.2222222222222222,
              "#7201a8"
             ],
             [
              0.3333333333333333,
              "#9c179e"
             ],
             [
              0.4444444444444444,
              "#bd3786"
             ],
             [
              0.5555555555555556,
              "#d8576b"
             ],
             [
              0.6666666666666666,
              "#ed7953"
             ],
             [
              0.7777777777777778,
              "#fb9f3a"
             ],
             [
              0.8888888888888888,
              "#fdca26"
             ],
             [
              1,
              "#f0f921"
             ]
            ],
            "type": "surface"
           }
          ],
          "table": [
           {
            "cells": {
             "fill": {
              "color": "#EBF0F8"
             },
             "line": {
              "color": "white"
             }
            },
            "header": {
             "fill": {
              "color": "#C8D4E3"
             },
             "line": {
              "color": "white"
             }
            },
            "type": "table"
           }
          ]
         },
         "layout": {
          "annotationdefaults": {
           "arrowcolor": "#2a3f5f",
           "arrowhead": 0,
           "arrowwidth": 1
          },
          "autotypenumbers": "strict",
          "coloraxis": {
           "colorbar": {
            "outlinewidth": 0,
            "ticks": ""
           }
          },
          "colorscale": {
           "diverging": [
            [
             0,
             "#8e0152"
            ],
            [
             0.1,
             "#c51b7d"
            ],
            [
             0.2,
             "#de77ae"
            ],
            [
             0.3,
             "#f1b6da"
            ],
            [
             0.4,
             "#fde0ef"
            ],
            [
             0.5,
             "#f7f7f7"
            ],
            [
             0.6,
             "#e6f5d0"
            ],
            [
             0.7,
             "#b8e186"
            ],
            [
             0.8,
             "#7fbc41"
            ],
            [
             0.9,
             "#4d9221"
            ],
            [
             1,
             "#276419"
            ]
           ],
           "sequential": [
            [
             0,
             "#0d0887"
            ],
            [
             0.1111111111111111,
             "#46039f"
            ],
            [
             0.2222222222222222,
             "#7201a8"
            ],
            [
             0.3333333333333333,
             "#9c179e"
            ],
            [
             0.4444444444444444,
             "#bd3786"
            ],
            [
             0.5555555555555556,
             "#d8576b"
            ],
            [
             0.6666666666666666,
             "#ed7953"
            ],
            [
             0.7777777777777778,
             "#fb9f3a"
            ],
            [
             0.8888888888888888,
             "#fdca26"
            ],
            [
             1,
             "#f0f921"
            ]
           ],
           "sequentialminus": [
            [
             0,
             "#0d0887"
            ],
            [
             0.1111111111111111,
             "#46039f"
            ],
            [
             0.2222222222222222,
             "#7201a8"
            ],
            [
             0.3333333333333333,
             "#9c179e"
            ],
            [
             0.4444444444444444,
             "#bd3786"
            ],
            [
             0.5555555555555556,
             "#d8576b"
            ],
            [
             0.6666666666666666,
             "#ed7953"
            ],
            [
             0.7777777777777778,
             "#fb9f3a"
            ],
            [
             0.8888888888888888,
             "#fdca26"
            ],
            [
             1,
             "#f0f921"
            ]
           ]
          },
          "colorway": [
           "#636efa",
           "#EF553B",
           "#00cc96",
           "#ab63fa",
           "#FFA15A",
           "#19d3f3",
           "#FF6692",
           "#B6E880",
           "#FF97FF",
           "#FECB52"
          ],
          "font": {
           "color": "#2a3f5f"
          },
          "geo": {
           "bgcolor": "white",
           "lakecolor": "white",
           "landcolor": "#E5ECF6",
           "showlakes": true,
           "showland": true,
           "subunitcolor": "white"
          },
          "hoverlabel": {
           "align": "left"
          },
          "hovermode": "closest",
          "mapbox": {
           "style": "light"
          },
          "paper_bgcolor": "white",
          "plot_bgcolor": "#E5ECF6",
          "polar": {
           "angularaxis": {
            "gridcolor": "white",
            "linecolor": "white",
            "ticks": ""
           },
           "bgcolor": "#E5ECF6",
           "radialaxis": {
            "gridcolor": "white",
            "linecolor": "white",
            "ticks": ""
           }
          },
          "scene": {
           "xaxis": {
            "backgroundcolor": "#E5ECF6",
            "gridcolor": "white",
            "gridwidth": 2,
            "linecolor": "white",
            "showbackground": true,
            "ticks": "",
            "zerolinecolor": "white"
           },
           "yaxis": {
            "backgroundcolor": "#E5ECF6",
            "gridcolor": "white",
            "gridwidth": 2,
            "linecolor": "white",
            "showbackground": true,
            "ticks": "",
            "zerolinecolor": "white"
           },
           "zaxis": {
            "backgroundcolor": "#E5ECF6",
            "gridcolor": "white",
            "gridwidth": 2,
            "linecolor": "white",
            "showbackground": true,
            "ticks": "",
            "zerolinecolor": "white"
           }
          },
          "shapedefaults": {
           "line": {
            "color": "#2a3f5f"
           }
          },
          "ternary": {
           "aaxis": {
            "gridcolor": "white",
            "linecolor": "white",
            "ticks": ""
           },
           "baxis": {
            "gridcolor": "white",
            "linecolor": "white",
            "ticks": ""
           },
           "bgcolor": "#E5ECF6",
           "caxis": {
            "gridcolor": "white",
            "linecolor": "white",
            "ticks": ""
           }
          },
          "title": {
           "x": 0.05
          },
          "xaxis": {
           "automargin": true,
           "gridcolor": "white",
           "linecolor": "white",
           "ticks": "",
           "title": {
            "standoff": 15
           },
           "zerolinecolor": "white",
           "zerolinewidth": 2
          },
          "yaxis": {
           "automargin": true,
           "gridcolor": "white",
           "linecolor": "white",
           "ticks": "",
           "title": {
            "standoff": 15
           },
           "zerolinecolor": "white",
           "zerolinewidth": 2
          }
         }
        },
        "title": {
         "text": "<b>What do we spend on healthcare per person?</b>"
        },
        "xaxis": {
         "range": [
          2000,
          2026
         ],
         "type": "linear"
        },
        "yaxis": {
         "autorange": true,
         "range": [
          -647.6062336238888,
          13164.39087545389
         ],
         "title": {
          "text": "cost per person"
         },
         "type": "linear"
        }
       }
      },
      "image/png": "[encoded data removed]",
      "text/html": [
       "<div>                            <div id=\"1faf9634-71db-48df-ade1-ba76ba40de34\" class=\"plotly-graph-div\" style=\"height:525px; width:100%;\"></div>            <script type=\"text/javascript\">                require([\"plotly\"], function(Plotly) {                    window.PLOTLYENV=window.PLOTLYENV || {};                                    if (document.getElementById(\"1faf9634-71db-48df-ade1-ba76ba40de34\")) {                    Plotly.newPlot(                        \"1faf9634-71db-48df-ade1-ba76ba40de34\",                        [{\"mode\":\"lines\",\"name\":\"costa rica\",\"x\":[2000,2001,2002,2003,2004,2005,2006,2007,2008,2009,2010,2011,2012,2013,2014,2015,2016,2017,2018,2019,2020,2021],\"y\":[247.701889,255.182312,276.2371216,287.3734741,290.1335449,309.5142822,359.7924805,423.6381226,510.9915466,529.6087036,654.1734009,742.1419067,776.4348755,816.8787231,822.9100342,875.3497315,870.7384033,853.7504883,902.2211914,914.8847046,953.0825195,948.9216309],\"type\":\"scatter\"},{\"mode\":\"lines\",\"name\":\"mexico\",\"x\":[2000,2001,2002,2003,2004,2005,2006,2007,2008,2009,2010,2011,2012,2013,2014,2015,2016,2017,2018,2019,2020,2021],\"y\":[321.801239,366.9807129,388.0279236,414.0400085,448.0602112,485.6738892,516.0639648,560.4942627,576.7153931,496.8142395,539.2655029,570.7304688,587.8284302,631.213501,615.1031494,558.1651001,492.8739929,514.8897095,530.6478272,552.7042236,538.5175171,610.6453247],\"type\":\"scatter\"},{\"mode\":\"lines\",\"name\":\"australia\",\"x\":[2000,2001,2002,2003,2004,2005,2006,2007,2008,2009,2010,2011,2012,2013,2014,2015,2016,2017,2018,2019,2020,2021],\"y\":[1636.528564,1559.821289,1763.695679,2240.746094,2760.830811,3014.104736,3194.030762,3815.336426,4107.012695,4011.932617,4975.470703,5909.149902,6071.650879,5843.173828,6130.998535,5322.971191,5453.924805,5813.61377,5857.288086,5545.910645,5958.765625,7055.368164],\"type\":\"scatter\"},{\"mode\":\"lines\",\"name\":\"france\",\"x\":[2000,2001,2002,2003,2004,2005,2006,2007,2008,2009,2010,2011,2012,2013,2014,2015,2016,2017,2018,2019,2020,2021],\"y\":[2161.853027,2192.715576,2449.758301,3006.305908,3458.627441,3575.025146,3811.551758,4312.310547,4807.374512,4737.578125,4592.383301,4931.87793,4644.595703,4884.766602,4980.814941,4201.781738,4256.765625,4410.599121,4666.97998,4504.484863,4755.44043,5380.875],\"type\":\"scatter\"},{\"mode\":\"lines\",\"name\":\"switzerland\",\"x\":[2000,2001,2002,2003,2004,2005,2006,2007,2008,2009,2010,2011,2012,2013,2014,2015,2016,2017,2018,2019,2020,2021],\"y\":[3559.819824,3763.384521,4211.729492,5018.527344,5608.703125,5673.939941,5671.981445,6154.703125,7120.652832,7297.379883,7640.449219,9138.367188,8753.820313,9118.189453,9307.96875,9082.450195,9078.758789,9119.969727,9212.432617,9341.0625,10085.45605,10897.4502],\"type\":\"scatter\"},{\"mode\":\"lines\",\"name\":\"canada\",\"x\":[2000,2001,2002,2003,2004,2005,2006,2007,2008,2009,2010,2011,2012,2013,2014,2015,2016,2017,2018,2019,2020,2021,2022],\"y\":[2001.668701,2055.759521,2149.379395,2552.263916,2916.251221,3291.220703,3788.686035,4221.928711,4491.229004,4368.856934,5083.981934,5423.059082,5538.935547,5483.255859,5231.736328,4677.830078,4667.703125,4920.728516,5080.323242,5115.976074,5668.347656,6470.067871,6207.181641],\"type\":\"scatter\"},{\"mode\":\"lines\",\"name\":\"germany\",\"x\":[2000,2001,2002,2003,2004,2005,2006,2007,2008,2009,2010,2011,2012,2013,2014,2015,2016,2017,2018,2019,2020,2021,2022],\"y\":[2344.410889,2346.669189,2567.50293,3152.794189,3459.824951,3558.213379,3698.043701,4182.916016,4669.760254,4674.919434,4611.421875,5037.491699,4765.678711,5100.152344,5309.154785,4627.35791,4746.870117,5070.195801,5511.214355,5486.98877,5936.251465,6626.004883,6191.035156],\"type\":\"scatter\"},{\"mode\":\"lines\",\"name\":\"italy\",\"x\":[2000,2001,2002,2003,2004,2005,2006,2007,2008,2009,2010,2011,2012,2013,2014,2015,2016,2017,2018,2019,2020,2021,2022],\"y\":[1524.0,1587.0,1763.0,2163.0,2566.0,2678.0,2833.0,3093.0,3504.0,3338.0,3218.0,3392.0,3086.0,3149.0,3154.0,2676.0,2700.0,2810.0,3003.0,2911.0,3062.0,3350.0,3066.0],\"type\":\"scatter\"},{\"mode\":\"lines\",\"name\":\"japan\",\"x\":[2000,2001,2002,2003,2004,2005,2006,2007,2008,2009,2010,2011,2012,2013,2014,2015,2016,2017,2018,2019,2020,2021],\"y\":[2756.0,2492.0,2416.0,2654.0,2888.0,2895.0,2766.0,2783.0,3225.0,3699.0,4074.0,5107.0,5235.0,4358.0,4122.0,3755.0,4200.0,4148.0,4288.0,4463.0,4436.0,4347.0],\"type\":\"scatter\"},{\"mode\":\"lines\",\"name\":\"new zealand\",\"x\":[2000,2001,2002,2003,2004,2005,2006,2007,2008,2009,2010,2011,2012,2013,2014,2015,2016,2017,2018,2019,2020,2021],\"y\":[1054.912109,1054.328003,1250.928955,1611.790405,1983.187012,2296.607666,2305.146484,2706.799561,2851.119141,2713.814209,3233.778564,3656.730713,3856.173096,4014.974609,4192.743652,3600.956299,3739.401367,3903.68042,3957.86084,4085.788086,4223.22168,4906.070801],\"type\":\"scatter\"},{\"mode\":\"lines\",\"name\":\"norway\",\"x\":[2000,2001,2002,2003,2004,2005,2006,2007,2008,2009,2010,2011,2012,2013,2014,2015,2016,2017,2018,2019,2020,2021,2022],\"y\":[2949.0,3099.0,3890.0,4633.0,5097.0,5585.0,5893.0,6896.0,7768.0,7302.0,7860.0,8900.0,8970.0,9241.0,9118.0,7566.0,7497.0,7816.0,8272.0,8007.0,7825.0,9163.0,8693.0],\"type\":\"scatter\"},{\"mode\":\"lines\",\"name\":\"united kingdom\",\"x\":[2000,2001,2002,2003,2004,2005,2006,2007,2008,2009,2010,2011,2012,2013,2014,2015,2016,2017,2018,2019,2020,2021,2022],\"y\":[2020.52832,2052.34668,2306.128418,2784.539551,3366.341553,3536.322998,3857.485596,4367.535645,4297.475098,3914.195801,3956.388916,4199.083984,4242.234863,4304.478027,4697.760254,4433.858398,4017.342285,3910.814209,4226.205078,4268.677246,4906.239746,5738.484863,5138.63623],\"type\":\"scatter\"},{\"mode\":\"lines\",\"name\":\"russia\",\"x\":[],\"y\":[],\"type\":\"scatter\"},{\"mode\":\"lines\",\"name\":\"china\",\"x\":[2000,2001,2002,2003,2004,2005,2006,2007,2008,2009,2010,2011,2012,2013,2014,2015,2016,2017,2018,2019,2020,2021],\"y\":[42.99362183,44.56903839,50.15548325,56.79228973,64.54340363,73.29019928,82.79460144,98.87766266,134.2076416,165.2944489,189.3437042,239.7543335,285.31427,329.7810669,363.0093994,393.7799072,398.7892151,440.588501,504.7997437,539.6194458,583.4321899,670.5145874],\"type\":\"scatter\"},{\"mode\":\"lines\",\"name\":\"united states\",\"x\":[2000,2001,2002,2003,2004,2005,2006,2007,2008,2009,2010,2011,2012,2013,2014,2015,2016,2017,2018,2019,2020,2021,2022],\"y\":[4533.826172,4881.20752,5304.52002,5708.551758,6047.818359,6404.186035,6779.227539,7132.446777,7347.45459,7602.745605,7833.044922,8021.593262,8274.37207,8433.698242,8828.476563,9248.93457,9599.890625,9902.818359,10280.52637,10658.39746,11758.4248,12012.24121,12473.79102],\"type\":\"scatter\"},{\"mode\":\"text\",\"name\":\"NONE\",\"text\":\"Costa Rica\",\"textposition\":\"middle right\",\"x\":[2021],\"y\":[948.9216309],\"type\":\"scatter\",\"showlegend\":false},{\"mode\":\"text\",\"name\":\"NONE\",\"text\":\"Mexico\",\"textposition\":\"middle right\",\"x\":[2021],\"y\":[610.6453247],\"type\":\"scatter\",\"showlegend\":false},{\"mode\":\"text\",\"name\":\"NONE\",\"text\":\"Australia\",\"textposition\":\"middle right\",\"x\":[2021],\"y\":[7055.368164],\"type\":\"scatter\",\"showlegend\":false},{\"mode\":\"text\",\"name\":\"NONE\",\"text\":\"France\",\"textposition\":\"middle right\",\"x\":[2021],\"y\":[5380.875],\"type\":\"scatter\",\"showlegend\":false},{\"mode\":\"text\",\"name\":\"NONE\",\"text\":\"Switzerland\",\"textposition\":\"middle right\",\"x\":[2021],\"y\":[10897.4502],\"type\":\"scatter\",\"showlegend\":false},{\"mode\":\"text\",\"name\":\"NONE\",\"text\":\"Canada\",\"textposition\":\"middle right\",\"x\":[2022],\"y\":[6207.181641],\"type\":\"scatter\",\"showlegend\":false},{\"mode\":\"text\",\"name\":\"NONE\",\"text\":\"Germany\",\"textposition\":\"middle right\",\"x\":[2022],\"y\":[6191.035156],\"type\":\"scatter\",\"showlegend\":false},{\"mode\":\"text\",\"name\":\"NONE\",\"text\":\"Italy\",\"textposition\":\"middle right\",\"x\":[2022],\"y\":[3066.0],\"type\":\"scatter\",\"showlegend\":false},{\"mode\":\"text\",\"name\":\"NONE\",\"text\":\"Japan\",\"textposition\":\"middle right\",\"x\":[2021],\"y\":[4347.0],\"type\":\"scatter\",\"showlegend\":false},{\"mode\":\"text\",\"name\":\"NONE\",\"text\":\"New Zealand\",\"textposition\":\"middle right\",\"x\":[2021],\"y\":[4906.070801],\"type\":\"scatter\",\"showlegend\":false},{\"mode\":\"text\",\"name\":\"NONE\",\"text\":\"Norway\",\"textposition\":\"middle right\",\"x\":[2022],\"y\":[8693.0],\"type\":\"scatter\",\"showlegend\":false},{\"mode\":\"text\",\"name\":\"NONE\",\"text\":\"United Kingdom\",\"textposition\":\"middle right\",\"x\":[2022],\"y\":[5138.63623],\"type\":\"scatter\",\"showlegend\":false},{\"mode\":\"text\",\"name\":\"NONE\",\"text\":\"Russia\",\"textposition\":\"middle right\",\"x\":[],\"y\":[],\"type\":\"scatter\",\"showlegend\":false},{\"mode\":\"text\",\"name\":\"NONE\",\"text\":\"China\",\"textposition\":\"middle right\",\"x\":[2021],\"y\":[670.5145874],\"type\":\"scatter\",\"showlegend\":false},{\"mode\":\"text\",\"name\":\"NONE\",\"text\":\"<b>United States</b>\",\"textposition\":\"middle right\",\"x\":[2022],\"y\":[12473.79102],\"type\":\"scatter\",\"showlegend\":false}],                        {\"template\":{\"data\":{\"histogram2dcontour\":[{\"type\":\"histogram2dcontour\",\"colorbar\":{\"outlinewidth\":0,\"ticks\":\"\"},\"colorscale\":[[0.0,\"#0d0887\"],[0.1111111111111111,\"#46039f\"],[0.2222222222222222,\"#7201a8\"],[0.3333333333333333,\"#9c179e\"],[0.4444444444444444,\"#bd3786\"],[0.5555555555555556,\"#d8576b\"],[0.6666666666666666,\"#ed7953\"],[0.7777777777777778,\"#fb9f3a\"],[0.8888888888888888,\"#fdca26\"],[1.0,\"#f0f921\"]]}],\"choropleth\":[{\"type\":\"choropleth\",\"colorbar\":{\"outlinewidth\":0,\"ticks\":\"\"}}],\"histogram2d\":[{\"type\":\"histogram2d\",\"colorbar\":{\"outlinewidth\":0,\"ticks\":\"\"},\"colorscale\":[[0.0,\"#0d0887\"],[0.1111111111111111,\"#46039f\"],[0.2222222222222222,\"#7201a8\"],[0.3333333333333333,\"#9c179e\"],[0.4444444444444444,\"#bd3786\"],[0.5555555555555556,\"#d8576b\"],[0.6666666666666666,\"#ed7953\"],[0.7777777777777778,\"#fb9f3a\"],[0.8888888888888888,\"#fdca26\"],[1.0,\"#f0f921\"]]}],\"heatmap\":[{\"type\":\"heatmap\",\"colorbar\":{\"outlinewidth\":0,\"ticks\":\"\"},\"colorscale\":[[0.0,\"#0d0887\"],[0.1111111111111111,\"#46039f\"],[0.2222222222222222,\"#7201a8\"],[0.3333333333333333,\"#9c179e\"],[0.4444444444444444,\"#bd3786\"],[0.5555555555555556,\"#d8576b\"],[0.6666666666666666,\"#ed7953\"],[0.7777777777777778,\"#fb9f3a\"],[0.8888888888888888,\"#fdca26\"],[1.0,\"#f0f921\"]]}],\"heatmapgl\":[{\"type\":\"heatmapgl\",\"colorbar\":{\"outlinewidth\":0,\"ticks\":\"\"},\"colorscale\":[[0.0,\"#0d0887\"],[0.1111111111111111,\"#46039f\"],[0.2222222222222222,\"#7201a8\"],[0.3333333333333333,\"#9c179e\"],[0.4444444444444444,\"#bd3786\"],[0.5555555555555556,\"#d8576b\"],[0.6666666666666666,\"#ed7953\"],[0.7777777777777778,\"#fb9f3a\"],[0.8888888888888888,\"#fdca26\"],[1.0,\"#f0f921\"]]}],\"contourcarpet\":[{\"type\":\"contourcarpet\",\"colorbar\":{\"outlinewidth\":0,\"ticks\":\"\"}}],\"contour\":[{\"type\":\"contour\",\"colorbar\":{\"outlinewidth\":0,\"ticks\":\"\"},\"colorscale\":[[0.0,\"#0d0887\"],[0.1111111111111111,\"#46039f\"],[0.2222222222222222,\"#7201a8\"],[0.3333333333333333,\"#9c179e\"],[0.4444444444444444,\"#bd3786\"],[0.5555555555555556,\"#d8576b\"],[0.6666666666666666,\"#ed7953\"],[0.7777777777777778,\"#fb9f3a\"],[0.8888888888888888,\"#fdca26\"],[1.0,\"#f0f921\"]]}],\"surface\":[{\"type\":\"surface\",\"colorbar\":{\"outlinewidth\":0,\"ticks\":\"\"},\"colorscale\":[[0.0,\"#0d0887\"],[0.1111111111111111,\"#46039f\"],[0.2222222222222222,\"#7201a8\"],[0.3333333333333333,\"#9c179e\"],[0.4444444444444444,\"#bd3786\"],[0.5555555555555556,\"#d8576b\"],[0.6666666666666666,\"#ed7953\"],[0.7777777777777778,\"#fb9f3a\"],[0.8888888888888888,\"#fdca26\"],[1.0,\"#f0f921\"]]}],\"mesh3d\":[{\"type\":\"mesh3d\",\"colorbar\":{\"outlinewidth\":0,\"ticks\":\"\"}}],\"scatter\":[{\"fillpattern\":{\"fillmode\":\"overlay\",\"size\":10,\"solidity\":0.2},\"type\":\"scatter\"}],\"parcoords\":[{\"type\":\"parcoords\",\"line\":{\"colorbar\":{\"outlinewidth\":0,\"ticks\":\"\"}}}],\"scatterpolargl\":[{\"type\":\"scatterpolargl\",\"marker\":{\"colorbar\":{\"outlinewidth\":0,\"ticks\":\"\"}}}],\"bar\":[{\"error_x\":{\"color\":\"#2a3f5f\"},\"error_y\":{\"color\":\"#2a3f5f\"},\"marker\":{\"line\":{\"color\":\"#E5ECF6\",\"width\":0.5},\"pattern\":{\"fillmode\":\"overlay\",\"size\":10,\"solidity\":0.2}},\"type\":\"bar\"}],\"scattergeo\":[{\"type\":\"scattergeo\",\"marker\":{\"colorbar\":{\"outlinewidth\":0,\"ticks\":\"\"}}}],\"scatterpolar\":[{\"type\":\"scatterpolar\",\"marker\":{\"colorbar\":{\"outlinewidth\":0,\"ticks\":\"\"}}}],\"histogram\":[{\"marker\":{\"pattern\":{\"fillmode\":\"overlay\",\"size\":10,\"solidity\":0.2}},\"type\":\"histogram\"}],\"scattergl\":[{\"type\":\"scattergl\",\"marker\":{\"colorbar\":{\"outlinewidth\":0,\"ticks\":\"\"}}}],\"scatter3d\":[{\"type\":\"scatter3d\",\"line\":{\"colorbar\":{\"outlinewidth\":0,\"ticks\":\"\"}},\"marker\":{\"colorbar\":{\"outlinewidth\":0,\"ticks\":\"\"}}}],\"scattermapbox\":[{\"type\":\"scattermapbox\",\"marker\":{\"colorbar\":{\"outlinewidth\":0,\"ticks\":\"\"}}}],\"scatterternary\":[{\"type\":\"scatterternary\",\"marker\":{\"colorbar\":{\"outlinewidth\":0,\"ticks\":\"\"}}}],\"scattercarpet\":[{\"type\":\"scattercarpet\",\"marker\":{\"colorbar\":{\"outlinewidth\":0,\"ticks\":\"\"}}}],\"carpet\":[{\"aaxis\":{\"endlinecolor\":\"#2a3f5f\",\"gridcolor\":\"white\",\"linecolor\":\"white\",\"minorgridcolor\":\"white\",\"startlinecolor\":\"#2a3f5f\"},\"baxis\":{\"endlinecolor\":\"#2a3f5f\",\"gridcolor\":\"white\",\"linecolor\":\"white\",\"minorgridcolor\":\"white\",\"startlinecolor\":\"#2a3f5f\"},\"type\":\"carpet\"}],\"table\":[{\"cells\":{\"fill\":{\"color\":\"#EBF0F8\"},\"line\":{\"color\":\"white\"}},\"header\":{\"fill\":{\"color\":\"#C8D4E3\"},\"line\":{\"color\":\"white\"}},\"type\":\"table\"}],\"barpolar\":[{\"marker\":{\"line\":{\"color\":\"#E5ECF6\",\"width\":0.5},\"pattern\":{\"fillmode\":\"overlay\",\"size\":10,\"solidity\":0.2}},\"type\":\"barpolar\"}],\"pie\":[{\"automargin\":true,\"type\":\"pie\"}]},\"layout\":{\"autotypenumbers\":\"strict\",\"colorway\":[\"#636efa\",\"#EF553B\",\"#00cc96\",\"#ab63fa\",\"#FFA15A\",\"#19d3f3\",\"#FF6692\",\"#B6E880\",\"#FF97FF\",\"#FECB52\"],\"font\":{\"color\":\"#2a3f5f\"},\"hovermode\":\"closest\",\"hoverlabel\":{\"align\":\"left\"},\"paper_bgcolor\":\"white\",\"plot_bgcolor\":\"#E5ECF6\",\"polar\":{\"bgcolor\":\"#E5ECF6\",\"angularaxis\":{\"gridcolor\":\"white\",\"linecolor\":\"white\",\"ticks\":\"\"},\"radialaxis\":{\"gridcolor\":\"white\",\"linecolor\":\"white\",\"ticks\":\"\"}},\"ternary\":{\"bgcolor\":\"#E5ECF6\",\"aaxis\":{\"gridcolor\":\"white\",\"linecolor\":\"white\",\"ticks\":\"\"},\"baxis\":{\"gridcolor\":\"white\",\"linecolor\":\"white\",\"ticks\":\"\"},\"caxis\":{\"gridcolor\":\"white\",\"linecolor\":\"white\",\"ticks\":\"\"}},\"coloraxis\":{\"colorbar\":{\"outlinewidth\":0,\"ticks\":\"\"}},\"colorscale\":{\"sequential\":[[0.0,\"#0d0887\"],[0.1111111111111111,\"#46039f\"],[0.2222222222222222,\"#7201a8\"],[0.3333333333333333,\"#9c179e\"],[0.4444444444444444,\"#bd3786\"],[0.5555555555555556,\"#d8576b\"],[0.6666666666666666,\"#ed7953\"],[0.7777777777777778,\"#fb9f3a\"],[0.8888888888888888,\"#fdca26\"],[1.0,\"#f0f921\"]],\"sequentialminus\":[[0.0,\"#0d0887\"],[0.1111111111111111,\"#46039f\"],[0.2222222222222222,\"#7201a8\"],[0.3333333333333333,\"#9c179e\"],[0.4444444444444444,\"#bd3786\"],[0.5555555555555556,\"#d8576b\"],[0.6666666666666666,\"#ed7953\"],[0.7777777777777778,\"#fb9f3a\"],[0.8888888888888888,\"#fdca26\"],[1.0,\"#f0f921\"]],\"diverging\":[[0,\"#8e0152\"],[0.1,\"#c51b7d\"],[0.2,\"#de77ae\"],[0.3,\"#f1b6da\"],[0.4,\"#fde0ef\"],[0.5,\"#f7f7f7\"],[0.6,\"#e6f5d0\"],[0.7,\"#b8e186\"],[0.8,\"#7fbc41\"],[0.9,\"#4d9221\"],[1,\"#276419\"]]},\"xaxis\":{\"gridcolor\":\"white\",\"linecolor\":\"white\",\"ticks\":\"\",\"title\":{\"standoff\":15},\"zerolinecolor\":\"white\",\"automargin\":true,\"zerolinewidth\":2},\"yaxis\":{\"gridcolor\":\"white\",\"linecolor\":\"white\",\"ticks\":\"\",\"title\":{\"standoff\":15},\"zerolinecolor\":\"white\",\"automargin\":true,\"zerolinewidth\":2},\"scene\":{\"xaxis\":{\"backgroundcolor\":\"#E5ECF6\",\"gridcolor\":\"white\",\"linecolor\":\"white\",\"showbackground\":true,\"ticks\":\"\",\"zerolinecolor\":\"white\",\"gridwidth\":2},\"yaxis\":{\"backgroundcolor\":\"#E5ECF6\",\"gridcolor\":\"white\",\"linecolor\":\"white\",\"showbackground\":true,\"ticks\":\"\",\"zerolinecolor\":\"white\",\"gridwidth\":2},\"zaxis\":{\"backgroundcolor\":\"#E5ECF6\",\"gridcolor\":\"white\",\"linecolor\":\"white\",\"showbackground\":true,\"ticks\":\"\",\"zerolinecolor\":\"white\",\"gridwidth\":2}},\"shapedefaults\":{\"line\":{\"color\":\"#2a3f5f\"}},\"annotationdefaults\":{\"arrowcolor\":\"#2a3f5f\",\"arrowhead\":0,\"arrowwidth\":1},\"geo\":{\"bgcolor\":\"white\",\"landcolor\":\"#E5ECF6\",\"subunitcolor\":\"white\",\"showland\":true,\"showlakes\":true,\"lakecolor\":\"white\"},\"title\":{\"x\":0.05},\"mapbox\":{\"style\":\"light\"}}},\"title\":{\"text\":\"<b>What do we spend on healthcare per person?</b>\"},\"xaxis\":{\"range\":[2000,2026]},\"yaxis\":{\"title\":{\"text\":\"cost per person\"}},\"showlegend\":false},                        {\"responsive\": true}                    ).then(function(){\n",
       "                            \n",
       "var gd = document.getElementById('1faf9634-71db-48df-ade1-ba76ba40de34');\n",
       "var x = new MutationObserver(function (mutations, observer) {{\n",
       "        var display = window.getComputedStyle(gd).display;\n",
       "        if (!display || display === 'none') {{\n",
       "            console.log([gd, 'removed!']);\n",
       "            Plotly.purge(gd);\n",
       "            observer.disconnect();\n",
       "        }}\n",
       "}});\n",
       "\n",
       "// Listen for the removal of the full notebook cells\n",
       "var notebookContainer = gd.closest('#notebook-container');\n",
       "if (notebookContainer) {{\n",
       "    x.observe(notebookContainer, {childList: true});\n",
       "}}\n",
       "\n",
       "// Listen for the clearing of the current output cell\n",
       "var outputEl = gd.closest('.output');\n",
       "if (outputEl) {{\n",
       "    x.observe(outputEl, {childList: true});\n",
       "}}\n",
       "\n",
       "                        })                };                });            </script>        </div>"
      ]
     },
     "metadata": {},
     "output_type": "display_data"
    }
   ],
   "source": [
    "plot_timeseries_multiple_countries(data=cost, title=\"What do we spend on healthcare per person?\", yaxis_title='cost per person')"
   ]
  },
  {
   "cell_type": "code",
   "execution_count": 110,
   "id": "bfb27b46-b36d-4cf4-919a-72131f04a52a",
   "metadata": {},
   "outputs": [
    {
     "data": {
      "application/vnd.plotly.v1+json": {
       "config": {
        "plotlyServerURL": "https://plot.ly"
       },
       "data": [
        {
         "mode": "lines",
         "name": "costa rica",
         "type": "scatter",
         "x": [
          2021,
          2020,
          2019,
          2018,
          2017,
          2016,
          2015,
          2014,
          2013,
          2012,
          2011,
          2010,
          2009,
          2008,
          2007,
          2006,
          2005,
          2004,
          2003,
          2002,
          2001,
          2000
         ],
         "y": [
          78.63,
          79.99,
          80.3,
          80.29,
          80.2,
          80.11,
          80.57,
          80.48,
          80.6,
          80.42,
          80.26,
          79.51,
          80.61,
          80.29,
          80.23,
          79.36,
          79.72,
          78.68,
          78.71,
          78.86,
          78.07,
          78.17
         ]
        },
        {
         "mode": "lines",
         "name": "mexico",
         "type": "scatter",
         "x": [
          2021,
          2020,
          2019,
          2018,
          2017,
          2016,
          2015,
          2014,
          2013,
          2012,
          2011,
          2010,
          2009,
          2008,
          2007,
          2006,
          2005,
          2004,
          2003,
          2002,
          2001,
          2000
         ],
         "y": [
          70.83,
          70.95,
          75.83,
          75.92,
          75.87,
          75.76,
          75.94,
          75.91,
          75.93,
          75.64,
          75.43,
          74.95,
          75.14,
          75.09,
          75.52,
          75.34,
          74.93,
          75.04,
          74.63,
          74.59,
          74.55,
          74.22
         ]
        },
        {
         "mode": "lines",
         "name": "australia",
         "type": "scatter",
         "x": [
          2021,
          2020,
          2019,
          2018,
          2017,
          2016,
          2015,
          2014,
          2013,
          2012,
          2011,
          2010,
          2009,
          2008,
          2007,
          2006,
          2005,
          2004,
          2003,
          2002,
          2001,
          2000
         ],
         "y": [
          83.1,
          83.37,
          82.64,
          83.02,
          82.68,
          82.59,
          82.29,
          82.37,
          82.46,
          82.27,
          81.93,
          81.91,
          81.75,
          81.32,
          81.37,
          81.04,
          80.84,
          80.76,
          80.57,
          80.19,
          80.13,
          79.7
         ]
        },
        {
         "mode": "lines",
         "name": "france",
         "type": "scatter",
         "x": [
          2021,
          2020,
          2019,
          2018,
          2017,
          2016,
          2015,
          2014,
          2013,
          2012,
          2011,
          2010,
          2009,
          2008,
          2007,
          2006,
          2005,
          2004,
          2003,
          2002,
          2001,
          2000
         ],
         "y": [
          81.92,
          81.87,
          82.53,
          82.38,
          82.17,
          82.13,
          81.91,
          82.25,
          81.82,
          81.58,
          81.58,
          81.22,
          81.04,
          80.87,
          80.8,
          80.53,
          80,
          80,
          79.09,
          79.14,
          79.01,
          78.91
         ]
        },
        {
         "mode": "lines",
         "name": "switzerland",
         "type": "scatter",
         "x": [
          2021,
          2020,
          2019,
          2018,
          2017,
          2016,
          2015,
          2014,
          2013,
          2012,
          2011,
          2010,
          2009,
          2008,
          2007,
          2006,
          2005,
          2004,
          2003,
          2002,
          2001,
          2000
         ],
         "y": [
          83.33,
          82.74,
          83.48,
          83.29,
          83.14,
          83.17,
          82.59,
          82.85,
          82.48,
          82.39,
          82.37,
          82.2,
          81.89,
          81.86,
          81.6,
          81.41,
          81.11,
          80.94,
          80.4,
          80.41,
          80.1,
          79.71
         ]
        },
        {
         "mode": "lines",
         "name": "canada",
         "type": "scatter",
         "x": [
          2021,
          2020,
          2019,
          2018,
          2017,
          2016,
          2015,
          2014,
          2013,
          2012,
          2011,
          2010,
          2009,
          2008,
          2007,
          2006,
          2005,
          2004,
          2003,
          2002,
          2001,
          2000
         ],
         "y": [
          81.58,
          81.3,
          82.02,
          81.73,
          81.71,
          81.74,
          81.65,
          81.59,
          81.56,
          81.49,
          81.4,
          81.14,
          80.88,
          80.56,
          80.38,
          80.37,
          79.95,
          79.85,
          79.58,
          79.42,
          79.31,
          79.09
         ]
        },
        {
         "mode": "lines",
         "name": "germany",
         "type": "scatter",
         "x": [
          2021,
          2020,
          2019,
          2018,
          2017,
          2016,
          2015,
          2014,
          2013,
          2012,
          2011,
          2010,
          2009,
          2008,
          2007,
          2006,
          2005,
          2004,
          2003,
          2002,
          2001,
          2000
         ],
         "y": [
          80.49,
          80.8,
          80.97,
          80.65,
          80.75,
          80.69,
          80.43,
          80.76,
          80.29,
          80.59,
          80.46,
          80.18,
          79.99,
          79.88,
          79.79,
          79.6,
          79.21,
          79.03,
          78.46,
          78.46,
          78.44,
          78.11
         ]
        },
        {
         "mode": "lines",
         "name": "italy",
         "type": "scatter",
         "x": [
          2021,
          2020,
          2019,
          2018,
          2017,
          2016,
          2015,
          2014,
          2013,
          2012,
          2011,
          2010,
          2009,
          2008,
          2007,
          2006,
          2005,
          2004,
          2003,
          2002,
          2001,
          2000
         ],
         "y": [
          82.2,
          81.94,
          82.99,
          82.78,
          82.52,
          82.87,
          82.2,
          82.61,
          82.29,
          81.84,
          81.83,
          81.9,
          81.52,
          81.37,
          81.18,
          81.06,
          80.51,
          80.53,
          79.82,
          79.96,
          79.68,
          79.37
         ]
        },
        {
         "mode": "lines",
         "name": "japan",
         "type": "scatter",
         "x": [
          2021,
          2020,
          2019,
          2018,
          2017,
          2016,
          2015,
          2014,
          2013,
          2012,
          2011,
          2010,
          2009,
          2008,
          2007,
          2006,
          2005,
          2004,
          2003,
          2002,
          2001,
          2000
         ],
         "y": [
          84.46,
          84.66,
          84.47,
          84.35,
          84.26,
          84.16,
          84,
          83.79,
          83.56,
          83.33,
          82.83,
          83.08,
          83.16,
          82.83,
          82.76,
          82.59,
          82.24,
          82.37,
          82.14,
          82.1,
          81.84,
          81.53
         ]
        },
        {
         "mode": "lines",
         "name": "new zealand",
         "type": "scatter",
         "x": [
          2021,
          2020,
          2019,
          2018,
          2017,
          2016,
          2015,
          2014,
          2013,
          2012,
          2011,
          2010,
          2009,
          2008,
          2007,
          2006,
          2005,
          2004,
          2003,
          2002,
          2001,
          2000
         ],
         "y": [
          82.2,
          82.5,
          81.81,
          81.76,
          81.16,
          81.73,
          81.31,
          81.19,
          81.36,
          81.09,
          80.75,
          80.94,
          80.56,
          80.31,
          80.04,
          79.89,
          79.94,
          79.15,
          79.06,
          78.66,
          78.47,
          78.58
         ]
        },
        {
         "mode": "lines",
         "name": "norway",
         "type": "scatter",
         "x": [
          2021,
          2020,
          2019,
          2018,
          2017,
          2016,
          2015,
          2014,
          2013,
          2012,
          2011,
          2010,
          2009,
          2008,
          2007,
          2006,
          2005,
          2004,
          2003,
          2002,
          2001,
          2000
         ],
         "y": [
          82.88,
          82.84,
          82.66,
          82.44,
          82.33,
          82.11,
          81.99,
          81.83,
          81.43,
          81.23,
          80.97,
          80.87,
          80.75,
          80.49,
          80.35,
          80.28,
          80.05,
          79.82,
          79.4,
          78.86,
          78.75,
          78.54
         ]
        },
        {
         "mode": "lines",
         "name": "united kingdom",
         "type": "scatter",
         "x": [
          2021,
          2020,
          2019,
          2018,
          2017,
          2016,
          2015,
          2014,
          2013,
          2012,
          2011,
          2010,
          2009,
          2008,
          2007,
          2006,
          2005,
          2004,
          2003,
          2002,
          2001,
          2000
         ],
         "y": [
          80.1,
          80.14,
          81.22,
          80.62,
          80.92,
          80.81,
          80.66,
          80.94,
          80.69,
          80.64,
          80.64,
          80.25,
          80.03,
          79.54,
          79.42,
          79.23,
          78.91,
          78.68,
          78.15,
          78.08,
          77.95,
          77.86
         ]
        },
        {
         "mode": "lines",
         "name": "russia",
         "type": "scatter",
         "x": [
          2021,
          2020,
          2019,
          2018,
          2017,
          2016,
          2015,
          2014,
          2013,
          2012,
          2011,
          2010,
          2009,
          2008,
          2007,
          2006,
          2005,
          2004,
          2003,
          2002,
          2001,
          2000
         ],
         "y": [
          70.02,
          71.38,
          73.22,
          72.66,
          72.5,
          71.62,
          71.3,
          70.69,
          70.7,
          70.19,
          69.77,
          68.83,
          68.56,
          67.79,
          67.42,
          66.49,
          65.19,
          65.14,
          64.72,
          64.86,
          65.1,
          65.16
         ]
        },
        {
         "mode": "lines",
         "name": "china",
         "type": "scatter",
         "x": [
          2021,
          2020,
          2019,
          2018,
          2017,
          2016,
          2015,
          2014,
          2013,
          2012,
          2011,
          2010,
          2009,
          2008,
          2007,
          2006,
          2005,
          2004,
          2003,
          2002,
          2001,
          2000
         ],
         "y": [
          77.62,
          77.48,
          77.31,
          77.14,
          76.95,
          76.72,
          76.51,
          76.2,
          75.84,
          75.48,
          75.04,
          74.65,
          74.39,
          74,
          73.84,
          73.29,
          72.44,
          71.93,
          71.69,
          71.45,
          71.13,
          70.84
         ]
        },
        {
         "mode": "lines",
         "name": "united states",
         "type": "scatter",
         "x": [
          2021,
          2020,
          2019,
          2018,
          2017,
          2016,
          2015,
          2014,
          2013,
          2012,
          2011,
          2010,
          2009,
          2008,
          2007,
          2006,
          2005,
          2004,
          2003,
          2002,
          2001,
          2000
         ],
         "y": [
          76.37,
          76.89,
          78.74,
          78.63,
          78.5,
          78.56,
          78.61,
          78.8,
          78.76,
          78.77,
          78.65,
          78.61,
          78.42,
          78.05,
          77.94,
          77.68,
          77.38,
          77.4,
          76.99,
          76.85,
          76.75,
          76.66
         ]
        },
        {
         "mode": "text",
         "name": "NONE",
         "showlegend": false,
         "text": "Costa Rica",
         "textposition": "middle right",
         "type": "scatter",
         "x": [
          2021
         ],
         "y": [
          78.63
         ]
        },
        {
         "mode": "text",
         "name": "NONE",
         "showlegend": false,
         "text": "Mexico",
         "textposition": "middle right",
         "type": "scatter",
         "x": [
          2021
         ],
         "y": [
          70.83
         ]
        },
        {
         "mode": "text",
         "name": "NONE",
         "showlegend": false,
         "text": "Australia",
         "textposition": "middle right",
         "type": "scatter",
         "x": [
          2021
         ],
         "y": [
          83.1
         ]
        },
        {
         "mode": "text",
         "name": "NONE",
         "showlegend": false,
         "text": "France",
         "textposition": "middle right",
         "type": "scatter",
         "x": [
          2021
         ],
         "y": [
          81.92
         ]
        },
        {
         "mode": "text",
         "name": "NONE",
         "showlegend": false,
         "text": "Switzerland",
         "textposition": "middle right",
         "type": "scatter",
         "x": [
          2021
         ],
         "y": [
          83.33
         ]
        },
        {
         "mode": "text",
         "name": "NONE",
         "showlegend": false,
         "text": "Canada",
         "textposition": "middle right",
         "type": "scatter",
         "x": [
          2021
         ],
         "y": [
          81.58
         ]
        },
        {
         "mode": "text",
         "name": "NONE",
         "showlegend": false,
         "text": "Germany",
         "textposition": "middle right",
         "type": "scatter",
         "x": [
          2021
         ],
         "y": [
          80.49
         ]
        },
        {
         "mode": "text",
         "name": "NONE",
         "showlegend": false,
         "text": "Italy",
         "textposition": "middle right",
         "type": "scatter",
         "x": [
          2021
         ],
         "y": [
          82.2
         ]
        },
        {
         "mode": "text",
         "name": "NONE",
         "showlegend": false,
         "text": "Japan",
         "textposition": "middle right",
         "type": "scatter",
         "x": [
          2021
         ],
         "y": [
          84.46
         ]
        },
        {
         "mode": "text",
         "name": "NONE",
         "showlegend": false,
         "text": "New Zealand",
         "textposition": "middle right",
         "type": "scatter",
         "x": [
          2021
         ],
         "y": [
          82.2
         ]
        },
        {
         "mode": "text",
         "name": "NONE",
         "showlegend": false,
         "text": "Norway",
         "textposition": "middle right",
         "type": "scatter",
         "x": [
          2021
         ],
         "y": [
          82.88
         ]
        },
        {
         "mode": "text",
         "name": "NONE",
         "showlegend": false,
         "text": "United Kingdom",
         "textposition": "middle right",
         "type": "scatter",
         "x": [
          2021
         ],
         "y": [
          80.1
         ]
        },
        {
         "mode": "text",
         "name": "NONE",
         "showlegend": false,
         "text": "Russia",
         "textposition": "middle right",
         "type": "scatter",
         "x": [
          2021
         ],
         "y": [
          70.02
         ]
        },
        {
         "mode": "text",
         "name": "NONE",
         "showlegend": false,
         "text": "China",
         "textposition": "middle right",
         "type": "scatter",
         "x": [
          2021
         ],
         "y": [
          77.62
         ]
        },
        {
         "mode": "text",
         "name": "NONE",
         "showlegend": false,
         "text": "<b>United States</b>",
         "textposition": "middle right",
         "type": "scatter",
         "x": [
          2021
         ],
         "y": [
          76.37
         ]
        }
       ],
       "layout": {
        "autosize": true,
        "showlegend": false,
        "template": {
         "data": {
          "bar": [
           {
            "error_x": {
             "color": "#2a3f5f"
            },
            "error_y": {
             "color": "#2a3f5f"
            },
            "marker": {
             "line": {
              "color": "#E5ECF6",
              "width": 0.5
             },
             "pattern": {
              "fillmode": "overlay",
              "size": 10,
              "solidity": 0.2
             }
            },
            "type": "bar"
           }
          ],
          "barpolar": [
           {
            "marker": {
             "line": {
              "color": "#E5ECF6",
              "width": 0.5
             },
             "pattern": {
              "fillmode": "overlay",
              "size": 10,
              "solidity": 0.2
             }
            },
            "type": "barpolar"
           }
          ],
          "carpet": [
           {
            "aaxis": {
             "endlinecolor": "#2a3f5f",
             "gridcolor": "white",
             "linecolor": "white",
             "minorgridcolor": "white",
             "startlinecolor": "#2a3f5f"
            },
            "baxis": {
             "endlinecolor": "#2a3f5f",
             "gridcolor": "white",
             "linecolor": "white",
             "minorgridcolor": "white",
             "startlinecolor": "#2a3f5f"
            },
            "type": "carpet"
           }
          ],
          "choropleth": [
           {
            "colorbar": {
             "outlinewidth": 0,
             "ticks": ""
            },
            "type": "choropleth"
           }
          ],
          "contour": [
           {
            "colorbar": {
             "outlinewidth": 0,
             "ticks": ""
            },
            "colorscale": [
             [
              0,
              "#0d0887"
             ],
             [
              0.1111111111111111,
              "#46039f"
             ],
             [
              0.2222222222222222,
              "#7201a8"
             ],
             [
              0.3333333333333333,
              "#9c179e"
             ],
             [
              0.4444444444444444,
              "#bd3786"
             ],
             [
              0.5555555555555556,
              "#d8576b"
             ],
             [
              0.6666666666666666,
              "#ed7953"
             ],
             [
              0.7777777777777778,
              "#fb9f3a"
             ],
             [
              0.8888888888888888,
              "#fdca26"
             ],
             [
              1,
              "#f0f921"
             ]
            ],
            "type": "contour"
           }
          ],
          "contourcarpet": [
           {
            "colorbar": {
             "outlinewidth": 0,
             "ticks": ""
            },
            "type": "contourcarpet"
           }
          ],
          "heatmap": [
           {
            "colorbar": {
             "outlinewidth": 0,
             "ticks": ""
            },
            "colorscale": [
             [
              0,
              "#0d0887"
             ],
             [
              0.1111111111111111,
              "#46039f"
             ],
             [
              0.2222222222222222,
              "#7201a8"
             ],
             [
              0.3333333333333333,
              "#9c179e"
             ],
             [
              0.4444444444444444,
              "#bd3786"
             ],
             [
              0.5555555555555556,
              "#d8576b"
             ],
             [
              0.6666666666666666,
              "#ed7953"
             ],
             [
              0.7777777777777778,
              "#fb9f3a"
             ],
             [
              0.8888888888888888,
              "#fdca26"
             ],
             [
              1,
              "#f0f921"
             ]
            ],
            "type": "heatmap"
           }
          ],
          "heatmapgl": [
           {
            "colorbar": {
             "outlinewidth": 0,
             "ticks": ""
            },
            "colorscale": [
             [
              0,
              "#0d0887"
             ],
             [
              0.1111111111111111,
              "#46039f"
             ],
             [
              0.2222222222222222,
              "#7201a8"
             ],
             [
              0.3333333333333333,
              "#9c179e"
             ],
             [
              0.4444444444444444,
              "#bd3786"
             ],
             [
              0.5555555555555556,
              "#d8576b"
             ],
             [
              0.6666666666666666,
              "#ed7953"
             ],
             [
              0.7777777777777778,
              "#fb9f3a"
             ],
             [
              0.8888888888888888,
              "#fdca26"
             ],
             [
              1,
              "#f0f921"
             ]
            ],
            "type": "heatmapgl"
           }
          ],
          "histogram": [
           {
            "marker": {
             "pattern": {
              "fillmode": "overlay",
              "size": 10,
              "solidity": 0.2
             }
            },
            "type": "histogram"
           }
          ],
          "histogram2d": [
           {
            "colorbar": {
             "outlinewidth": 0,
             "ticks": ""
            },
            "colorscale": [
             [
              0,
              "#0d0887"
             ],
             [
              0.1111111111111111,
              "#46039f"
             ],
             [
              0.2222222222222222,
              "#7201a8"
             ],
             [
              0.3333333333333333,
              "#9c179e"
             ],
             [
              0.4444444444444444,
              "#bd3786"
             ],
             [
              0.5555555555555556,
              "#d8576b"
             ],
             [
              0.6666666666666666,
              "#ed7953"
             ],
             [
              0.7777777777777778,
              "#fb9f3a"
             ],
             [
              0.8888888888888888,
              "#fdca26"
             ],
             [
              1,
              "#f0f921"
             ]
            ],
            "type": "histogram2d"
           }
          ],
          "histogram2dcontour": [
           {
            "colorbar": {
             "outlinewidth": 0,
             "ticks": ""
            },
            "colorscale": [
             [
              0,
              "#0d0887"
             ],
             [
              0.1111111111111111,
              "#46039f"
             ],
             [
              0.2222222222222222,
              "#7201a8"
             ],
             [
              0.3333333333333333,
              "#9c179e"
             ],
             [
              0.4444444444444444,
              "#bd3786"
             ],
             [
              0.5555555555555556,
              "#d8576b"
             ],
             [
              0.6666666666666666,
              "#ed7953"
             ],
             [
              0.7777777777777778,
              "#fb9f3a"
             ],
             [
              0.8888888888888888,
              "#fdca26"
             ],
             [
              1,
              "#f0f921"
             ]
            ],
            "type": "histogram2dcontour"
           }
          ],
          "mesh3d": [
           {
            "colorbar": {
             "outlinewidth": 0,
             "ticks": ""
            },
            "type": "mesh3d"
           }
          ],
          "parcoords": [
           {
            "line": {
             "colorbar": {
              "outlinewidth": 0,
              "ticks": ""
             }
            },
            "type": "parcoords"
           }
          ],
          "pie": [
           {
            "automargin": true,
            "type": "pie"
           }
          ],
          "scatter": [
           {
            "fillpattern": {
             "fillmode": "overlay",
             "size": 10,
             "solidity": 0.2
            },
            "type": "scatter"
           }
          ],
          "scatter3d": [
           {
            "line": {
             "colorbar": {
              "outlinewidth": 0,
              "ticks": ""
             }
            },
            "marker": {
             "colorbar": {
              "outlinewidth": 0,
              "ticks": ""
             }
            },
            "type": "scatter3d"
           }
          ],
          "scattercarpet": [
           {
            "marker": {
             "colorbar": {
              "outlinewidth": 0,
              "ticks": ""
             }
            },
            "type": "scattercarpet"
           }
          ],
          "scattergeo": [
           {
            "marker": {
             "colorbar": {
              "outlinewidth": 0,
              "ticks": ""
             }
            },
            "type": "scattergeo"
           }
          ],
          "scattergl": [
           {
            "marker": {
             "colorbar": {
              "outlinewidth": 0,
              "ticks": ""
             }
            },
            "type": "scattergl"
           }
          ],
          "scattermapbox": [
           {
            "marker": {
             "colorbar": {
              "outlinewidth": 0,
              "ticks": ""
             }
            },
            "type": "scattermapbox"
           }
          ],
          "scatterpolar": [
           {
            "marker": {
             "colorbar": {
              "outlinewidth": 0,
              "ticks": ""
             }
            },
            "type": "scatterpolar"
           }
          ],
          "scatterpolargl": [
           {
            "marker": {
             "colorbar": {
              "outlinewidth": 0,
              "ticks": ""
             }
            },
            "type": "scatterpolargl"
           }
          ],
          "scatterternary": [
           {
            "marker": {
             "colorbar": {
              "outlinewidth": 0,
              "ticks": ""
             }
            },
            "type": "scatterternary"
           }
          ],
          "surface": [
           {
            "colorbar": {
             "outlinewidth": 0,
             "ticks": ""
            },
            "colorscale": [
             [
              0,
              "#0d0887"
             ],
             [
              0.1111111111111111,
              "#46039f"
             ],
             [
              0.2222222222222222,
              "#7201a8"
             ],
             [
              0.3333333333333333,
              "#9c179e"
             ],
             [
              0.4444444444444444,
              "#bd3786"
             ],
             [
              0.5555555555555556,
              "#d8576b"
             ],
             [
              0.6666666666666666,
              "#ed7953"
             ],
             [
              0.7777777777777778,
              "#fb9f3a"
             ],
             [
              0.8888888888888888,
              "#fdca26"
             ],
             [
              1,
              "#f0f921"
             ]
            ],
            "type": "surface"
           }
          ],
          "table": [
           {
            "cells": {
             "fill": {
              "color": "#EBF0F8"
             },
             "line": {
              "color": "white"
             }
            },
            "header": {
             "fill": {
              "color": "#C8D4E3"
             },
             "line": {
              "color": "white"
             }
            },
            "type": "table"
           }
          ]
         },
         "layout": {
          "annotationdefaults": {
           "arrowcolor": "#2a3f5f",
           "arrowhead": 0,
           "arrowwidth": 1
          },
          "autotypenumbers": "strict",
          "coloraxis": {
           "colorbar": {
            "outlinewidth": 0,
            "ticks": ""
           }
          },
          "colorscale": {
           "diverging": [
            [
             0,
             "#8e0152"
            ],
            [
             0.1,
             "#c51b7d"
            ],
            [
             0.2,
             "#de77ae"
            ],
            [
             0.3,
             "#f1b6da"
            ],
            [
             0.4,
             "#fde0ef"
            ],
            [
             0.5,
             "#f7f7f7"
            ],
            [
             0.6,
             "#e6f5d0"
            ],
            [
             0.7,
             "#b8e186"
            ],
            [
             0.8,
             "#7fbc41"
            ],
            [
             0.9,
             "#4d9221"
            ],
            [
             1,
             "#276419"
            ]
           ],
           "sequential": [
            [
             0,
             "#0d0887"
            ],
            [
             0.1111111111111111,
             "#46039f"
            ],
            [
             0.2222222222222222,
             "#7201a8"
            ],
            [
             0.3333333333333333,
             "#9c179e"
            ],
            [
             0.4444444444444444,
             "#bd3786"
            ],
            [
             0.5555555555555556,
             "#d8576b"
            ],
            [
             0.6666666666666666,
             "#ed7953"
            ],
            [
             0.7777777777777778,
             "#fb9f3a"
            ],
            [
             0.8888888888888888,
             "#fdca26"
            ],
            [
             1,
             "#f0f921"
            ]
           ],
           "sequentialminus": [
            [
             0,
             "#0d0887"
            ],
            [
             0.1111111111111111,
             "#46039f"
            ],
            [
             0.2222222222222222,
             "#7201a8"
            ],
            [
             0.3333333333333333,
             "#9c179e"
            ],
            [
             0.4444444444444444,
             "#bd3786"
            ],
            [
             0.5555555555555556,
             "#d8576b"
            ],
            [
             0.6666666666666666,
             "#ed7953"
            ],
            [
             0.7777777777777778,
             "#fb9f3a"
            ],
            [
             0.8888888888888888,
             "#fdca26"
            ],
            [
             1,
             "#f0f921"
            ]
           ]
          },
          "colorway": [
           "#636efa",
           "#EF553B",
           "#00cc96",
           "#ab63fa",
           "#FFA15A",
           "#19d3f3",
           "#FF6692",
           "#B6E880",
           "#FF97FF",
           "#FECB52"
          ],
          "font": {
           "color": "#2a3f5f"
          },
          "geo": {
           "bgcolor": "white",
           "lakecolor": "white",
           "landcolor": "#E5ECF6",
           "showlakes": true,
           "showland": true,
           "subunitcolor": "white"
          },
          "hoverlabel": {
           "align": "left"
          },
          "hovermode": "closest",
          "mapbox": {
           "style": "light"
          },
          "paper_bgcolor": "white",
          "plot_bgcolor": "#E5ECF6",
          "polar": {
           "angularaxis": {
            "gridcolor": "white",
            "linecolor": "white",
            "ticks": ""
           },
           "bgcolor": "#E5ECF6",
           "radialaxis": {
            "gridcolor": "white",
            "linecolor": "white",
            "ticks": ""
           }
          },
          "scene": {
           "xaxis": {
            "backgroundcolor": "#E5ECF6",
            "gridcolor": "white",
            "gridwidth": 2,
            "linecolor": "white",
            "showbackground": true,
            "ticks": "",
            "zerolinecolor": "white"
           },
           "yaxis": {
            "backgroundcolor": "#E5ECF6",
            "gridcolor": "white",
            "gridwidth": 2,
            "linecolor": "white",
            "showbackground": true,
            "ticks": "",
            "zerolinecolor": "white"
           },
           "zaxis": {
            "backgroundcolor": "#E5ECF6",
            "gridcolor": "white",
            "gridwidth": 2,
            "linecolor": "white",
            "showbackground": true,
            "ticks": "",
            "zerolinecolor": "white"
           }
          },
          "shapedefaults": {
           "line": {
            "color": "#2a3f5f"
           }
          },
          "ternary": {
           "aaxis": {
            "gridcolor": "white",
            "linecolor": "white",
            "ticks": ""
           },
           "baxis": {
            "gridcolor": "white",
            "linecolor": "white",
            "ticks": ""
           },
           "bgcolor": "#E5ECF6",
           "caxis": {
            "gridcolor": "white",
            "linecolor": "white",
            "ticks": ""
           }
          },
          "title": {
           "x": 0.05
          },
          "xaxis": {
           "automargin": true,
           "gridcolor": "white",
           "linecolor": "white",
           "ticks": "",
           "title": {
            "standoff": 15
           },
           "zerolinecolor": "white",
           "zerolinewidth": 2
          },
          "yaxis": {
           "automargin": true,
           "gridcolor": "white",
           "linecolor": "white",
           "ticks": "",
           "title": {
            "standoff": 15
           },
           "zerolinecolor": "white",
           "zerolinewidth": 2
          }
         }
        },
        "title": {
         "text": "<b>Does America's high spending on healthcare lead to better outcomes?</b>"
        },
        "xaxis": {
         "range": [
          2000,
          2026
         ],
         "type": "linear"
        },
        "yaxis": {
         "autorange": true,
         "range": [
          63.61222222222222,
          85.76777777777778
         ],
         "title": {
          "text": "life expectancy"
         },
         "type": "linear"
        }
       }
      },
      "image/png": "[encoded data removed]",
      "text/html": [
       "<div>                            <div id=\"de3001ca-e88b-4a21-a249-48d1529cf363\" class=\"plotly-graph-div\" style=\"height:525px; width:100%;\"></div>            <script type=\"text/javascript\">                require([\"plotly\"], function(Plotly) {                    window.PLOTLYENV=window.PLOTLYENV || {};                                    if (document.getElementById(\"de3001ca-e88b-4a21-a249-48d1529cf363\")) {                    Plotly.newPlot(                        \"de3001ca-e88b-4a21-a249-48d1529cf363\",                        [{\"mode\":\"lines\",\"name\":\"costa rica\",\"x\":[2021,2020,2019,2018,2017,2016,2015,2014,2013,2012,2011,2010,2009,2008,2007,2006,2005,2004,2003,2002,2001,2000],\"y\":[78.63,79.99,80.3,80.29,80.2,80.11,80.57,80.48,80.6,80.42,80.26,79.51,80.61,80.29,80.23,79.36,79.72,78.68,78.71,78.86,78.07,78.17],\"type\":\"scatter\"},{\"mode\":\"lines\",\"name\":\"mexico\",\"x\":[2021,2020,2019,2018,2017,2016,2015,2014,2013,2012,2011,2010,2009,2008,2007,2006,2005,2004,2003,2002,2001,2000],\"y\":[70.83,70.95,75.83,75.92,75.87,75.76,75.94,75.91,75.93,75.64,75.43,74.95,75.14,75.09,75.52,75.34,74.93,75.04,74.63,74.59,74.55,74.22],\"type\":\"scatter\"},{\"mode\":\"lines\",\"name\":\"australia\",\"x\":[2021,2020,2019,2018,2017,2016,2015,2014,2013,2012,2011,2010,2009,2008,2007,2006,2005,2004,2003,2002,2001,2000],\"y\":[83.1,83.37,82.64,83.02,82.68,82.59,82.29,82.37,82.46,82.27,81.93,81.91,81.75,81.32,81.37,81.04,80.84,80.76,80.57,80.19,80.13,79.7],\"type\":\"scatter\"},{\"mode\":\"lines\",\"name\":\"france\",\"x\":[2021,2020,2019,2018,2017,2016,2015,2014,2013,2012,2011,2010,2009,2008,2007,2006,2005,2004,2003,2002,2001,2000],\"y\":[81.92,81.87,82.53,82.38,82.17,82.13,81.91,82.25,81.82,81.58,81.58,81.22,81.04,80.87,80.8,80.53,80.0,80.0,79.09,79.14,79.01,78.91],\"type\":\"scatter\"},{\"mode\":\"lines\",\"name\":\"switzerland\",\"x\":[2021,2020,2019,2018,2017,2016,2015,2014,2013,2012,2011,2010,2009,2008,2007,2006,2005,2004,2003,2002,2001,2000],\"y\":[83.33,82.74,83.48,83.29,83.14,83.17,82.59,82.85,82.48,82.39,82.37,82.2,81.89,81.86,81.6,81.41,81.11,80.94,80.4,80.41,80.1,79.71],\"type\":\"scatter\"},{\"mode\":\"lines\",\"name\":\"canada\",\"x\":[2021,2020,2019,2018,2017,2016,2015,2014,2013,2012,2011,2010,2009,2008,2007,2006,2005,2004,2003,2002,2001,2000],\"y\":[81.58,81.3,82.02,81.73,81.71,81.74,81.65,81.59,81.56,81.49,81.4,81.14,80.88,80.56,80.38,80.37,79.95,79.85,79.58,79.42,79.31,79.09],\"type\":\"scatter\"},{\"mode\":\"lines\",\"name\":\"germany\",\"x\":[2021,2020,2019,2018,2017,2016,2015,2014,2013,2012,2011,2010,2009,2008,2007,2006,2005,2004,2003,2002,2001,2000],\"y\":[80.49,80.8,80.97,80.65,80.75,80.69,80.43,80.76,80.29,80.59,80.46,80.18,79.99,79.88,79.79,79.6,79.21,79.03,78.46,78.46,78.44,78.11],\"type\":\"scatter\"},{\"mode\":\"lines\",\"name\":\"italy\",\"x\":[2021,2020,2019,2018,2017,2016,2015,2014,2013,2012,2011,2010,2009,2008,2007,2006,2005,2004,2003,2002,2001,2000],\"y\":[82.2,81.94,82.99,82.78,82.52,82.87,82.2,82.61,82.29,81.84,81.83,81.9,81.52,81.37,81.18,81.06,80.51,80.53,79.82,79.96,79.68,79.37],\"type\":\"scatter\"},{\"mode\":\"lines\",\"name\":\"japan\",\"x\":[2021,2020,2019,2018,2017,2016,2015,2014,2013,2012,2011,2010,2009,2008,2007,2006,2005,2004,2003,2002,2001,2000],\"y\":[84.46,84.66,84.47,84.35,84.26,84.16,84.0,83.79,83.56,83.33,82.83,83.08,83.16,82.83,82.76,82.59,82.24,82.37,82.14,82.1,81.84,81.53],\"type\":\"scatter\"},{\"mode\":\"lines\",\"name\":\"new zealand\",\"x\":[2021,2020,2019,2018,2017,2016,2015,2014,2013,2012,2011,2010,2009,2008,2007,2006,2005,2004,2003,2002,2001,2000],\"y\":[82.2,82.5,81.81,81.76,81.16,81.73,81.31,81.19,81.36,81.09,80.75,80.94,80.56,80.31,80.04,79.89,79.94,79.15,79.06,78.66,78.47,78.58],\"type\":\"scatter\"},{\"mode\":\"lines\",\"name\":\"norway\",\"x\":[2021,2020,2019,2018,2017,2016,2015,2014,2013,2012,2011,2010,2009,2008,2007,2006,2005,2004,2003,2002,2001,2000],\"y\":[82.88,82.84,82.66,82.44,82.33,82.11,81.99,81.83,81.43,81.23,80.97,80.87,80.75,80.49,80.35,80.28,80.05,79.82,79.4,78.86,78.75,78.54],\"type\":\"scatter\"},{\"mode\":\"lines\",\"name\":\"united kingdom\",\"x\":[2021,2020,2019,2018,2017,2016,2015,2014,2013,2012,2011,2010,2009,2008,2007,2006,2005,2004,2003,2002,2001,2000],\"y\":[80.1,80.14,81.22,80.62,80.92,80.81,80.66,80.94,80.69,80.64,80.64,80.25,80.03,79.54,79.42,79.23,78.91,78.68,78.15,78.08,77.95,77.86],\"type\":\"scatter\"},{\"mode\":\"lines\",\"name\":\"russia\",\"x\":[2021,2020,2019,2018,2017,2016,2015,2014,2013,2012,2011,2010,2009,2008,2007,2006,2005,2004,2003,2002,2001,2000],\"y\":[70.02,71.38,73.22,72.66,72.5,71.62,71.3,70.69,70.7,70.19,69.77,68.83,68.56,67.79,67.42,66.49,65.19,65.14,64.72,64.86,65.1,65.16],\"type\":\"scatter\"},{\"mode\":\"lines\",\"name\":\"china\",\"x\":[2021,2020,2019,2018,2017,2016,2015,2014,2013,2012,2011,2010,2009,2008,2007,2006,2005,2004,2003,2002,2001,2000],\"y\":[77.62,77.48,77.31,77.14,76.95,76.72,76.51,76.2,75.84,75.48,75.04,74.65,74.39,74.0,73.84,73.29,72.44,71.93,71.69,71.45,71.13,70.84],\"type\":\"scatter\"},{\"mode\":\"lines\",\"name\":\"united states\",\"x\":[2021,2020,2019,2018,2017,2016,2015,2014,2013,2012,2011,2010,2009,2008,2007,2006,2005,2004,2003,2002,2001,2000],\"y\":[76.37,76.89,78.74,78.63,78.5,78.56,78.61,78.8,78.76,78.77,78.65,78.61,78.42,78.05,77.94,77.68,77.38,77.4,76.99,76.85,76.75,76.66],\"type\":\"scatter\"},{\"mode\":\"text\",\"name\":\"NONE\",\"text\":\"Costa Rica\",\"textposition\":\"middle right\",\"x\":[2021],\"y\":[78.63],\"type\":\"scatter\",\"showlegend\":false},{\"mode\":\"text\",\"name\":\"NONE\",\"text\":\"Mexico\",\"textposition\":\"middle right\",\"x\":[2021],\"y\":[70.83],\"type\":\"scatter\",\"showlegend\":false},{\"mode\":\"text\",\"name\":\"NONE\",\"text\":\"Australia\",\"textposition\":\"middle right\",\"x\":[2021],\"y\":[83.1],\"type\":\"scatter\",\"showlegend\":false},{\"mode\":\"text\",\"name\":\"NONE\",\"text\":\"France\",\"textposition\":\"middle right\",\"x\":[2021],\"y\":[81.92],\"type\":\"scatter\",\"showlegend\":false},{\"mode\":\"text\",\"name\":\"NONE\",\"text\":\"Switzerland\",\"textposition\":\"middle right\",\"x\":[2021],\"y\":[83.33],\"type\":\"scatter\",\"showlegend\":false},{\"mode\":\"text\",\"name\":\"NONE\",\"text\":\"Canada\",\"textposition\":\"middle right\",\"x\":[2021],\"y\":[81.58],\"type\":\"scatter\",\"showlegend\":false},{\"mode\":\"text\",\"name\":\"NONE\",\"text\":\"Germany\",\"textposition\":\"middle right\",\"x\":[2021],\"y\":[80.49],\"type\":\"scatter\",\"showlegend\":false},{\"mode\":\"text\",\"name\":\"NONE\",\"text\":\"Italy\",\"textposition\":\"middle right\",\"x\":[2021],\"y\":[82.2],\"type\":\"scatter\",\"showlegend\":false},{\"mode\":\"text\",\"name\":\"NONE\",\"text\":\"Japan\",\"textposition\":\"middle right\",\"x\":[2021],\"y\":[84.46],\"type\":\"scatter\",\"showlegend\":false},{\"mode\":\"text\",\"name\":\"NONE\",\"text\":\"New Zealand\",\"textposition\":\"middle right\",\"x\":[2021],\"y\":[82.2],\"type\":\"scatter\",\"showlegend\":false},{\"mode\":\"text\",\"name\":\"NONE\",\"text\":\"Norway\",\"textposition\":\"middle right\",\"x\":[2021],\"y\":[82.88],\"type\":\"scatter\",\"showlegend\":false},{\"mode\":\"text\",\"name\":\"NONE\",\"text\":\"United Kingdom\",\"textposition\":\"middle right\",\"x\":[2021],\"y\":[80.1],\"type\":\"scatter\",\"showlegend\":false},{\"mode\":\"text\",\"name\":\"NONE\",\"text\":\"Russia\",\"textposition\":\"middle right\",\"x\":[2021],\"y\":[70.02],\"type\":\"scatter\",\"showlegend\":false},{\"mode\":\"text\",\"name\":\"NONE\",\"text\":\"China\",\"textposition\":\"middle right\",\"x\":[2021],\"y\":[77.62],\"type\":\"scatter\",\"showlegend\":false},{\"mode\":\"text\",\"name\":\"NONE\",\"text\":\"<b>United States</b>\",\"textposition\":\"middle right\",\"x\":[2021],\"y\":[76.37],\"type\":\"scatter\",\"showlegend\":false}],                        {\"template\":{\"data\":{\"histogram2dcontour\":[{\"type\":\"histogram2dcontour\",\"colorbar\":{\"outlinewidth\":0,\"ticks\":\"\"},\"colorscale\":[[0.0,\"#0d0887\"],[0.1111111111111111,\"#46039f\"],[0.2222222222222222,\"#7201a8\"],[0.3333333333333333,\"#9c179e\"],[0.4444444444444444,\"#bd3786\"],[0.5555555555555556,\"#d8576b\"],[0.6666666666666666,\"#ed7953\"],[0.7777777777777778,\"#fb9f3a\"],[0.8888888888888888,\"#fdca26\"],[1.0,\"#f0f921\"]]}],\"choropleth\":[{\"type\":\"choropleth\",\"colorbar\":{\"outlinewidth\":0,\"ticks\":\"\"}}],\"histogram2d\":[{\"type\":\"histogram2d\",\"colorbar\":{\"outlinewidth\":0,\"ticks\":\"\"},\"colorscale\":[[0.0,\"#0d0887\"],[0.1111111111111111,\"#46039f\"],[0.2222222222222222,\"#7201a8\"],[0.3333333333333333,\"#9c179e\"],[0.4444444444444444,\"#bd3786\"],[0.5555555555555556,\"#d8576b\"],[0.6666666666666666,\"#ed7953\"],[0.7777777777777778,\"#fb9f3a\"],[0.8888888888888888,\"#fdca26\"],[1.0,\"#f0f921\"]]}],\"heatmap\":[{\"type\":\"heatmap\",\"colorbar\":{\"outlinewidth\":0,\"ticks\":\"\"},\"colorscale\":[[0.0,\"#0d0887\"],[0.1111111111111111,\"#46039f\"],[0.2222222222222222,\"#7201a8\"],[0.3333333333333333,\"#9c179e\"],[0.4444444444444444,\"#bd3786\"],[0.5555555555555556,\"#d8576b\"],[0.6666666666666666,\"#ed7953\"],[0.7777777777777778,\"#fb9f3a\"],[0.8888888888888888,\"#fdca26\"],[1.0,\"#f0f921\"]]}],\"heatmapgl\":[{\"type\":\"heatmapgl\",\"colorbar\":{\"outlinewidth\":0,\"ticks\":\"\"},\"colorscale\":[[0.0,\"#0d0887\"],[0.1111111111111111,\"#46039f\"],[0.2222222222222222,\"#7201a8\"],[0.3333333333333333,\"#9c179e\"],[0.4444444444444444,\"#bd3786\"],[0.5555555555555556,\"#d8576b\"],[0.6666666666666666,\"#ed7953\"],[0.7777777777777778,\"#fb9f3a\"],[0.8888888888888888,\"#fdca26\"],[1.0,\"#f0f921\"]]}],\"contourcarpet\":[{\"type\":\"contourcarpet\",\"colorbar\":{\"outlinewidth\":0,\"ticks\":\"\"}}],\"contour\":[{\"type\":\"contour\",\"colorbar\":{\"outlinewidth\":0,\"ticks\":\"\"},\"colorscale\":[[0.0,\"#0d0887\"],[0.1111111111111111,\"#46039f\"],[0.2222222222222222,\"#7201a8\"],[0.3333333333333333,\"#9c179e\"],[0.4444444444444444,\"#bd3786\"],[0.5555555555555556,\"#d8576b\"],[0.6666666666666666,\"#ed7953\"],[0.7777777777777778,\"#fb9f3a\"],[0.8888888888888888,\"#fdca26\"],[1.0,\"#f0f921\"]]}],\"surface\":[{\"type\":\"surface\",\"colorbar\":{\"outlinewidth\":0,\"ticks\":\"\"},\"colorscale\":[[0.0,\"#0d0887\"],[0.1111111111111111,\"#46039f\"],[0.2222222222222222,\"#7201a8\"],[0.3333333333333333,\"#9c179e\"],[0.4444444444444444,\"#bd3786\"],[0.5555555555555556,\"#d8576b\"],[0.6666666666666666,\"#ed7953\"],[0.7777777777777778,\"#fb9f3a\"],[0.8888888888888888,\"#fdca26\"],[1.0,\"#f0f921\"]]}],\"mesh3d\":[{\"type\":\"mesh3d\",\"colorbar\":{\"outlinewidth\":0,\"ticks\":\"\"}}],\"scatter\":[{\"fillpattern\":{\"fillmode\":\"overlay\",\"size\":10,\"solidity\":0.2},\"type\":\"scatter\"}],\"parcoords\":[{\"type\":\"parcoords\",\"line\":{\"colorbar\":{\"outlinewidth\":0,\"ticks\":\"\"}}}],\"scatterpolargl\":[{\"type\":\"scatterpolargl\",\"marker\":{\"colorbar\":{\"outlinewidth\":0,\"ticks\":\"\"}}}],\"bar\":[{\"error_x\":{\"color\":\"#2a3f5f\"},\"error_y\":{\"color\":\"#2a3f5f\"},\"marker\":{\"line\":{\"color\":\"#E5ECF6\",\"width\":0.5},\"pattern\":{\"fillmode\":\"overlay\",\"size\":10,\"solidity\":0.2}},\"type\":\"bar\"}],\"scattergeo\":[{\"type\":\"scattergeo\",\"marker\":{\"colorbar\":{\"outlinewidth\":0,\"ticks\":\"\"}}}],\"scatterpolar\":[{\"type\":\"scatterpolar\",\"marker\":{\"colorbar\":{\"outlinewidth\":0,\"ticks\":\"\"}}}],\"histogram\":[{\"marker\":{\"pattern\":{\"fillmode\":\"overlay\",\"size\":10,\"solidity\":0.2}},\"type\":\"histogram\"}],\"scattergl\":[{\"type\":\"scattergl\",\"marker\":{\"colorbar\":{\"outlinewidth\":0,\"ticks\":\"\"}}}],\"scatter3d\":[{\"type\":\"scatter3d\",\"line\":{\"colorbar\":{\"outlinewidth\":0,\"ticks\":\"\"}},\"marker\":{\"colorbar\":{\"outlinewidth\":0,\"ticks\":\"\"}}}],\"scattermapbox\":[{\"type\":\"scattermapbox\",\"marker\":{\"colorbar\":{\"outlinewidth\":0,\"ticks\":\"\"}}}],\"scatterternary\":[{\"type\":\"scatterternary\",\"marker\":{\"colorbar\":{\"outlinewidth\":0,\"ticks\":\"\"}}}],\"scattercarpet\":[{\"type\":\"scattercarpet\",\"marker\":{\"colorbar\":{\"outlinewidth\":0,\"ticks\":\"\"}}}],\"carpet\":[{\"aaxis\":{\"endlinecolor\":\"#2a3f5f\",\"gridcolor\":\"white\",\"linecolor\":\"white\",\"minorgridcolor\":\"white\",\"startlinecolor\":\"#2a3f5f\"},\"baxis\":{\"endlinecolor\":\"#2a3f5f\",\"gridcolor\":\"white\",\"linecolor\":\"white\",\"minorgridcolor\":\"white\",\"startlinecolor\":\"#2a3f5f\"},\"type\":\"carpet\"}],\"table\":[{\"cells\":{\"fill\":{\"color\":\"#EBF0F8\"},\"line\":{\"color\":\"white\"}},\"header\":{\"fill\":{\"color\":\"#C8D4E3\"},\"line\":{\"color\":\"white\"}},\"type\":\"table\"}],\"barpolar\":[{\"marker\":{\"line\":{\"color\":\"#E5ECF6\",\"width\":0.5},\"pattern\":{\"fillmode\":\"overlay\",\"size\":10,\"solidity\":0.2}},\"type\":\"barpolar\"}],\"pie\":[{\"automargin\":true,\"type\":\"pie\"}]},\"layout\":{\"autotypenumbers\":\"strict\",\"colorway\":[\"#636efa\",\"#EF553B\",\"#00cc96\",\"#ab63fa\",\"#FFA15A\",\"#19d3f3\",\"#FF6692\",\"#B6E880\",\"#FF97FF\",\"#FECB52\"],\"font\":{\"color\":\"#2a3f5f\"},\"hovermode\":\"closest\",\"hoverlabel\":{\"align\":\"left\"},\"paper_bgcolor\":\"white\",\"plot_bgcolor\":\"#E5ECF6\",\"polar\":{\"bgcolor\":\"#E5ECF6\",\"angularaxis\":{\"gridcolor\":\"white\",\"linecolor\":\"white\",\"ticks\":\"\"},\"radialaxis\":{\"gridcolor\":\"white\",\"linecolor\":\"white\",\"ticks\":\"\"}},\"ternary\":{\"bgcolor\":\"#E5ECF6\",\"aaxis\":{\"gridcolor\":\"white\",\"linecolor\":\"white\",\"ticks\":\"\"},\"baxis\":{\"gridcolor\":\"white\",\"linecolor\":\"white\",\"ticks\":\"\"},\"caxis\":{\"gridcolor\":\"white\",\"linecolor\":\"white\",\"ticks\":\"\"}},\"coloraxis\":{\"colorbar\":{\"outlinewidth\":0,\"ticks\":\"\"}},\"colorscale\":{\"sequential\":[[0.0,\"#0d0887\"],[0.1111111111111111,\"#46039f\"],[0.2222222222222222,\"#7201a8\"],[0.3333333333333333,\"#9c179e\"],[0.4444444444444444,\"#bd3786\"],[0.5555555555555556,\"#d8576b\"],[0.6666666666666666,\"#ed7953\"],[0.7777777777777778,\"#fb9f3a\"],[0.8888888888888888,\"#fdca26\"],[1.0,\"#f0f921\"]],\"sequentialminus\":[[0.0,\"#0d0887\"],[0.1111111111111111,\"#46039f\"],[0.2222222222222222,\"#7201a8\"],[0.3333333333333333,\"#9c179e\"],[0.4444444444444444,\"#bd3786\"],[0.5555555555555556,\"#d8576b\"],[0.6666666666666666,\"#ed7953\"],[0.7777777777777778,\"#fb9f3a\"],[0.8888888888888888,\"#fdca26\"],[1.0,\"#f0f921\"]],\"diverging\":[[0,\"#8e0152\"],[0.1,\"#c51b7d\"],[0.2,\"#de77ae\"],[0.3,\"#f1b6da\"],[0.4,\"#fde0ef\"],[0.5,\"#f7f7f7\"],[0.6,\"#e6f5d0\"],[0.7,\"#b8e186\"],[0.8,\"#7fbc41\"],[0.9,\"#4d9221\"],[1,\"#276419\"]]},\"xaxis\":{\"gridcolor\":\"white\",\"linecolor\":\"white\",\"ticks\":\"\",\"title\":{\"standoff\":15},\"zerolinecolor\":\"white\",\"automargin\":true,\"zerolinewidth\":2},\"yaxis\":{\"gridcolor\":\"white\",\"linecolor\":\"white\",\"ticks\":\"\",\"title\":{\"standoff\":15},\"zerolinecolor\":\"white\",\"automargin\":true,\"zerolinewidth\":2},\"scene\":{\"xaxis\":{\"backgroundcolor\":\"#E5ECF6\",\"gridcolor\":\"white\",\"linecolor\":\"white\",\"showbackground\":true,\"ticks\":\"\",\"zerolinecolor\":\"white\",\"gridwidth\":2},\"yaxis\":{\"backgroundcolor\":\"#E5ECF6\",\"gridcolor\":\"white\",\"linecolor\":\"white\",\"showbackground\":true,\"ticks\":\"\",\"zerolinecolor\":\"white\",\"gridwidth\":2},\"zaxis\":{\"backgroundcolor\":\"#E5ECF6\",\"gridcolor\":\"white\",\"linecolor\":\"white\",\"showbackground\":true,\"ticks\":\"\",\"zerolinecolor\":\"white\",\"gridwidth\":2}},\"shapedefaults\":{\"line\":{\"color\":\"#2a3f5f\"}},\"annotationdefaults\":{\"arrowcolor\":\"#2a3f5f\",\"arrowhead\":0,\"arrowwidth\":1},\"geo\":{\"bgcolor\":\"white\",\"landcolor\":\"#E5ECF6\",\"subunitcolor\":\"white\",\"showland\":true,\"showlakes\":true,\"lakecolor\":\"white\"},\"title\":{\"x\":0.05},\"mapbox\":{\"style\":\"light\"}}},\"title\":{\"text\":\"<b>Does America's high spending on healthcare lead to better outcomes?</b>\"},\"xaxis\":{\"range\":[2000,2026]},\"yaxis\":{\"title\":{\"text\":\"life expectancy\"}},\"showlegend\":false},                        {\"responsive\": true}                    ).then(function(){\n",
       "                            \n",
       "var gd = document.getElementById('de3001ca-e88b-4a21-a249-48d1529cf363');\n",
       "var x = new MutationObserver(function (mutations, observer) {{\n",
       "        var display = window.getComputedStyle(gd).display;\n",
       "        if (!display || display === 'none') {{\n",
       "            console.log([gd, 'removed!']);\n",
       "            Plotly.purge(gd);\n",
       "            observer.disconnect();\n",
       "        }}\n",
       "}});\n",
       "\n",
       "// Listen for the removal of the full notebook cells\n",
       "var notebookContainer = gd.closest('#notebook-container');\n",
       "if (notebookContainer) {{\n",
       "    x.observe(notebookContainer, {childList: true});\n",
       "}}\n",
       "\n",
       "// Listen for the clearing of the current output cell\n",
       "var outputEl = gd.closest('.output');\n",
       "if (outputEl) {{\n",
       "    x.observe(outputEl, {childList: true});\n",
       "}}\n",
       "\n",
       "                        })                };                });            </script>        </div>"
      ]
     },
     "metadata": {},
     "output_type": "display_data"
    }
   ],
   "source": [
    "plot_timeseries_multiple_countries(data=life, title=\"Does America's high spending on healthcare lead to better outcomes?\", yaxis_title=\"life expectancy\")\n"
   ]
  },
  {
   "cell_type": "code",
   "execution_count": null,
   "id": "5220802a-9435-4bec-a473-232a52052942",
   "metadata": {},
   "outputs": [],
   "source": []
  },
  {
   "cell_type": "code",
   "execution_count": null,
   "id": "28dc9e75-be20-4fef-8374-f3061f9ed7df",
   "metadata": {},
   "outputs": [],
   "source": []
  }
 ],
 "metadata": {
  "kernelspec": {
   "display_name": "Python 3 (ipykernel)",
   "language": "python",
   "name": "python3"
  },
  "language_info": {
   "codemirror_mode": {
    "name": "ipython",
    "version": 3
   },
   "file_extension": ".py",
   "mimetype": "text/x-python",
   "name": "python",
   "nbconvert_exporter": "python",
   "pygments_lexer": "ipython3",
   "version": "3.11.7"
  }
 },
 "nbformat": 4,
 "nbformat_minor": 5
}
